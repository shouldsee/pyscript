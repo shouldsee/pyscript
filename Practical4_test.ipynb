{
 "cells": [
  {
   "cell_type": "code",
   "execution_count": 47,
   "metadata": {
    "collapsed": true
   },
   "outputs": [],
   "source": [
    "import math as math\n",
    "ff=lambda s:'{:4.2f}'.format(s);\n",
    "fe=lambda s:'{:4.2e}'.format(s);"
   ]
  },
  {
   "cell_type": "code",
   "execution_count": 7,
   "metadata": {
    "collapsed": false
   },
   "outputs": [
    {
     "data": {
      "text/plain": [
       "'1.09e-11'"
      ]
     },
     "execution_count": 7,
     "metadata": {},
     "output_type": "execute_result"
    }
   ],
   "source": [
    "'{:3.2e}'.format(9.272E-4/8.526E7)"
   ]
  },
  {
   "cell_type": "code",
   "execution_count": 9,
   "metadata": {
    "collapsed": false
   },
   "outputs": [
    {
     "data": {
      "text/plain": [
       "0.36443148688046656"
      ]
     },
     "execution_count": 9,
     "metadata": {},
     "output_type": "execute_result"
    }
   ],
   "source": [
    "f=lambda x: abs(x**-3);\n",
    "f(-1.4)"
   ]
  },
  {
   "cell_type": "code",
   "execution_count": 14,
   "metadata": {
    "collapsed": false
   },
   "outputs": [
    {
     "data": {
      "text/plain": [
       "3.141592653589793"
      ]
     },
     "execution_count": 14,
     "metadata": {},
     "output_type": "execute_result"
    }
   ],
   "source": [
    "\n",
    "m.log10(12)\n",
    "7**3\n",
    "m.pi"
   ]
  },
  {
   "cell_type": "code",
   "execution_count": 16,
   "metadata": {
    "collapsed": false
   },
   "outputs": [
    {
     "data": {
      "text/plain": [
       "3.988263631567751"
      ]
     },
     "execution_count": 16,
     "metadata": {},
     "output_type": "execute_result"
    }
   ],
   "source": [
    "l=lambda A,r: A/(m.pi*r)-r;\n",
    "l(120,4.5)"
   ]
  },
  {
   "cell_type": "code",
   "execution_count": 43,
   "metadata": {
    "collapsed": false
   },
   "outputs": [
    {
     "name": "stdout",
     "output_type": "stream",
     "text": [
      "28.57\n",
      "29.49640287769784\n",
      "27.659574468085108\n"
     ]
    }
   ],
   "source": [
    "200/7\n",
    "print(ff(200/7.))\n",
    "print(205/6.95)\n",
    "print(195/7.05)"
   ]
  },
  {
   "cell_type": "code",
   "execution_count": 30,
   "metadata": {
    "collapsed": false
   },
   "outputs": [
    {
     "name": "stdout",
     "output_type": "stream",
     "text": [
      "43.06\n",
      "37.35\n"
     ]
    }
   ],
   "source": [
    "A=0.135;\n",
    "k=2.32;\n",
    "m=lambda d: A*d**k;\n",
    "d=lambda m: (m/A)**(1/k);\n",
    "print(ff(m(12)))\n",
    "print(ff(d(600)))\n",
    "# ff"
   ]
  },
  {
   "cell_type": "code",
   "execution_count": 49,
   "metadata": {
    "collapsed": false
   },
   "outputs": [
    {
     "name": "stdout",
     "output_type": "stream",
     "text": [
      "2.09\n",
      "0.68\n"
     ]
    }
   ],
   "source": [
    "N=lambda t: 120*10**(-0.44*t);\n",
    "print(ff(N(4.)))\n",
    "print(ff(math.log10(2)/0.44))"
   ]
  },
  {
   "cell_type": "code",
   "execution_count": 62,
   "metadata": {
    "collapsed": false
   },
   "outputs": [
    {
     "name": "stdout",
     "output_type": "stream",
     "text": [
      "knock\n"
     ]
    }
   ],
   "source": [
    "type(str(3)+str(3))\n",
    "print(\"knock\")"
   ]
  },
  {
   "cell_type": "code",
   "execution_count": 64,
   "metadata": {
    "collapsed": false
   },
   "outputs": [
    {
     "name": "stdout",
     "output_type": "stream",
     "text": [
      "observations in agreement\n"
     ]
    }
   ],
   "source": [
    "obs_1=42.0;\n",
    "obs_2=46.0;\n",
    "\n",
    "if abs(obs_1-obs_2)<10:\n",
    "    print('observations in agreement')\n",
    "else:\n",
    "    print('warning: observations disagree')"
   ]
  },
  {
   "cell_type": "code",
   "execution_count": 69,
   "metadata": {
    "collapsed": false
   },
   "outputs": [
    {
     "data": {
      "text/plain": [
       "['_checkReadable',\n",
       " '__ne__',\n",
       " '__gt__',\n",
       " '__repr__',\n",
       " 'mode',\n",
       " 'buffer',\n",
       " 'tell',\n",
       " '__iter__',\n",
       " '__new__',\n",
       " '__del__',\n",
       " 'seekable',\n",
       " '__setattr__',\n",
       " '__ge__',\n",
       " 'closed',\n",
       " 'flush',\n",
       " '__doc__',\n",
       " '__subclasshook__',\n",
       " 'writable',\n",
       " 'encoding',\n",
       " 'readable',\n",
       " 'isatty',\n",
       " '_checkSeekable',\n",
       " '__init__',\n",
       " '__getattribute__',\n",
       " '_finalizing',\n",
       " 'writelines',\n",
       " 'close',\n",
       " '__lt__',\n",
       " 'name',\n",
       " 'newlines',\n",
       " '__getstate__',\n",
       " 'readlines',\n",
       " '__le__',\n",
       " '__exit__',\n",
       " 'truncate',\n",
       " '__next__',\n",
       " '_CHUNK_SIZE',\n",
       " '__delattr__',\n",
       " 'write',\n",
       " '__enter__',\n",
       " 'readline',\n",
       " 'read',\n",
       " 'fileno',\n",
       " '__reduce_ex__',\n",
       " '__hash__',\n",
       " 'seek',\n",
       " 'line_buffering',\n",
       " '__str__',\n",
       " 'detach',\n",
       " '__reduce__',\n",
       " '__eq__',\n",
       " '_checkWritable',\n",
       " '__dict__',\n",
       " '__dir__',\n",
       " '_checkClosed',\n",
       " 'errors',\n",
       " '__format__',\n",
       " '__sizeof__',\n",
       " '__class__']"
      ]
     },
     "execution_count": 69,
     "metadata": {},
     "output_type": "execute_result"
    }
   ],
   "source": [
    "f.__dir__()"
   ]
  },
  {
   "cell_type": "code",
   "execution_count": 74,
   "metadata": {
    "collapsed": false
   },
   "outputs": [],
   "source": [
    "line_list=[\"The primate who first walked bipedally\", \"Perhaps did not do so too steadily.\", \"Using two legs, not four,\", \"Brought rewards by the score,\", \"And so now we all do it quite readily.\"]\n",
    "with open('limerick.txt','w') as f:\n",
    "    for line in line_list:\n",
    "        f.write(line+'\\n')\n",
    "    "
   ]
  },
  {
   "cell_type": "code",
   "execution_count": 83,
   "metadata": {
    "collapsed": false
   },
   "outputs": [
    {
     "name": "stdout",
     "output_type": "stream",
     "text": [
      "[1, 2, 3, 4, 5, 6, 7, 8]\n"
     ]
    },
    {
     "data": {
      "text/plain": [
       "['a', 'b', 'c', 'd', 'e', 'f', 'g']"
      ]
     },
     "execution_count": 83,
     "metadata": {},
     "output_type": "execute_result"
    }
   ],
   "source": [
    "mylist=list(range(1,9));\n",
    "print(mylist)\n",
    "mylist[-3:]\n",
    "mylist=[\"a\",\"b\",\"c\",\"z\",\"d\",\"e\",\"f\",\"g\"]\n",
    "mylist.pop(3)\n",
    "mylist"
   ]
  },
  {
   "cell_type": "code",
   "execution_count": 84,
   "metadata": {
    "collapsed": false
   },
   "outputs": [
    {
     "name": "stdout",
     "output_type": "stream",
     "text": [
      "Are we there yet.\n",
      "Are we there yet.\n",
      "Are we there yet.\n"
     ]
    }
   ],
   "source": [
    "for i in range(17):\n",
    "    print('Are we there yet.')\n"
   ]
  },
  {
   "cell_type": "code",
   "execution_count": 86,
   "metadata": {
    "collapsed": false
   },
   "outputs": [
    {
     "name": "stdout",
     "output_type": "stream",
     "text": [
      "{'name': 'Pikachu', 'owner': 'Ash Ketchum', 'weight': 6.0, 'height': 40.6}\n"
     ]
    },
    {
     "data": {
      "text/plain": [
       "6"
      ]
     },
     "execution_count": 86,
     "metadata": {},
     "output_type": "execute_result"
    }
   ],
   "source": [
    "pokedex={};\n",
    "pokedex['name']='Pikachu';\n",
    "pokedex['owner']='Ash Ketchum';\n",
    "pokedex['weight']=6.0;\n",
    "pokedex['height']=40.6;\n",
    "print(pokedex)\n",
    "sum([1,2,3])"
   ]
  },
  {
   "cell_type": "code",
   "execution_count": 88,
   "metadata": {
    "collapsed": false
   },
   "outputs": [
    {
     "name": "stdout",
     "output_type": "stream",
     "text": [
      "The following observations were recorded: 32.0, 33.5, 45.2, 44.0, \n",
      "The mean of the observations was 38.7\n"
     ]
    }
   ],
   "source": [
    "obs = [32.0, 33.5, 45.2, 44.0]\n",
    "len_obs=len(obs);\n",
    "sum_obs=sum(obs);\n",
    "mean_obs = sum_obs/len_obs;\n",
    "mystr = \"The following observations were recorded: \"\n",
    "for item in obs:\n",
    "\tmystr+=str(item)+', ';\n",
    "mystr+=\"\\n\"\n",
    "mystr+=\"The mean of the observations was {:3.1f}\".format(mean_obs );\n",
    "\n",
    "print(mystr)"
   ]
  },
  {
   "cell_type": "code",
   "execution_count": 92,
   "metadata": {
    "collapsed": false
   },
   "outputs": [
    {
     "name": "stdout",
     "output_type": "stream",
     "text": [
      "1094.0 7\n"
     ]
    }
   ],
   "source": [
    "i=1.0;\n",
    "ilist=[];\n",
    "while i<1000:\n",
    "    ilist.append(i);\n",
    "    i=3*i-1;\n",
    "print(i,len(ilist))"
   ]
  },
  {
   "cell_type": "code",
   "execution_count": 94,
   "metadata": {
    "collapsed": false
   },
   "outputs": [
    {
     "name": "stdout",
     "output_type": "stream",
     "text": [
      "60\n"
     ]
    }
   ],
   "source": [
    "product=lambda a,b,c: a*b*c;\n",
    "\n",
    "print(product(10,2,3));"
   ]
  },
  {
   "cell_type": "code",
   "execution_count": 96,
   "metadata": {
    "collapsed": false
   },
   "outputs": [
    {
     "name": "stdout",
     "output_type": "stream",
     "text": [
      "5.196192237708947\n"
     ]
    },
    {
     "data": {
      "text/plain": [
       "5.196192237708947"
      ]
     },
     "execution_count": 96,
     "metadata": {},
     "output_type": "execute_result"
    }
   ],
   "source": [
    "input_num=16.0\n",
    "n_iterations=3\n",
    "\n",
    "def newton_method(input_num,n_iterations):\n",
    "    guess=1.0\n",
    "    for i in range(n_iterations):\n",
    "        guess = (guess + input_num/guess)/2.0\n",
    "    print (guess)\n",
    "    return guess\n",
    "newton_method(27.0,5)"
   ]
  },
  {
   "cell_type": "code",
   "execution_count": 107,
   "metadata": {
    "collapsed": false
   },
   "outputs": [
    {
     "name": "stdout",
     "output_type": "stream",
     "text": [
      "[0, 4, 5]\n",
      "A07 \n",
      "\n",
      "B15 \n",
      "\n",
      "D51 \n",
      "\n"
     ]
    }
   ],
   "source": [
    "id_code = [\"A07\",\"A11\",\"A13\",\"B14\",\"B15\",\"D51\"]\n",
    "age = [43, 27, 23, 25, 51, 37]\n",
    "sex = [\"f\",\"m\",\"f\",\"f\",\"m\",\"f\"]\n",
    "height = [161, 172, 143, 177, 155, 148]\n",
    "\n",
    "ids=[];\n",
    "for i in range(0,len(id_code)):\n",
    "    if age[i]>=35 and age[i]<=55:\n",
    "        ids+=[i]\n",
    "print(ids)\n",
    "for i in ids:\n",
    "    print(id_code[i])\n"
   ]
  },
  {
   "cell_type": "code",
   "execution_count": 112,
   "metadata": {
    "collapsed": false
   },
   "outputs": [
    {
     "data": {
      "text/plain": [
       "<matplotlib.text.Text at 0x7ff792ea15f8>"
      ]
     },
     "execution_count": 112,
     "metadata": {},
     "output_type": "execute_result"
    },
    {
     "data": {
      "image/png": "[encoded data removed]",
      "text/plain": [
       "<matplotlib.figure.Figure at 0x7ff792f31e10>"
      ]
     },
     "metadata": {},
     "output_type": "display_data"
    }
   ],
   "source": [
    "import matplotlib.pyplot as plt\n",
    "import numpy as np\n",
    "import math\n",
    "%matplotlib inline\n",
    "plt.close(\"all\");\n",
    "fig1=plt.figure();\n",
    "ax=plt.subplot(1,1,1)\n",
    "t_max=6;\n",
    "num_tsteps=501\n",
    "ts=np.linspace(-6,t_max,num_tsteps);\n",
    "f=lambda x: [math.cos(i/4) for i in x]\n",
    "ax.plot(ts,f(ts),'-')\n",
    "\n",
    "ax.set_xlabel('x')\n",
    "ax.set_ylabel('f(x)')\n",
    "ax.set_title('f(x)=cos(x/4)')\n"
   ]
  },
  {
   "cell_type": "code",
   "execution_count": 129,
   "metadata": {
    "collapsed": false
   },
   "outputs": [
    {
     "name": "stdout",
     "output_type": "stream",
     "text": [
      "Crab Object with  side:right, id:0, claw_size:67.0, mass:78.0,\n",
      "Crab Object with  side:right, id:1, claw_size:87.0, mass:113.0,\n"
     ]
    }
   ],
   "source": [
    "class Crabdata:\n",
    "    def __init__(self,id,mass,side,claw_size):\n",
    "        self.id=id\n",
    "        self.mass=mass\n",
    "        self.side=side\n",
    "        self.claw_size=claw_size\n",
    "    def __str__(self):\n",
    "            mystr='Crab Object with ';\n",
    "            dt=self.__dict__;\n",
    "            for key in dt:\n",
    "                mystr+=' '+key+':'+str(dt[key])+','\n",
    "            return(mystr)\n",
    "crab1=Crabdata(0,78.0,'right',67.0)\n",
    "print(crab1)\n",
    "\n",
    "\n",
    "def create_crab_from_csv(s):\n",
    "    vals=s.split(\",\");\n",
    "    return(Crabdata(vals[0],vals[1],vals[2],vals[3]))\n",
    "\n",
    "csv_str1=\"1,113.0,right,87.0\"\n",
    "csv_str2=\"2,132.0,left,92.0\"\n",
    "csv_str3=\"3,65.0,right,43.0\"\n",
    "\n",
    "print(create_crab_from_csv(csv_str1))\n",
    "    "
   ]
  },
  {
   "cell_type": "code",
   "execution_count": 133,
   "metadata": {
    "collapsed": false
   },
   "outputs": [
    {
     "name": "stdout",
     "output_type": "stream",
     "text": [
      "{'height': 6.0, 'owner': 'Ash Ketchum', 'name': 'Pikachu', 'weight': 40.6, 'habitat': 'Forest'}\n"
     ]
    }
   ],
   "source": [
    "class Pokemon:\n",
    "    def __init__(self,name,owner,height,weight,habitat):\n",
    "        self.name=name;\n",
    "        self.owner=owner;\n",
    "        self.height=height;\n",
    "        self.weight=weight;\n",
    "        self.habitat=habitat;\n",
    "pokemon1=Pokemon('Pikachu','Ash Ketchum',6.0,40.6,'Forest');\n",
    "print(pokemon1.__dict__)"
   ]
  }
 ],
 "metadata": {
  "kernelspec": {
   "display_name": "Python 3",
   "language": "python",
   "name": "python3"
  },
  "language_info": {
   "codemirror_mode": {
    "name": "ipython",
    "version": 3
   },
   "file_extension": ".py",
   "mimetype": "text/x-python",
   "name": "python",
   "nbconvert_exporter": "python",
   "pygments_lexer": "ipython3",
   "version": "3.5.2"
  }
 },
 "nbformat": 4,
 "nbformat_minor": 2
}
