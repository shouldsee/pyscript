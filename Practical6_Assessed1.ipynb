{
 "cells": [
  {
   "cell_type": "code",
   "execution_count": 21,
   "metadata": {
    "collapsed": false
   },
   "outputs": [],
   "source": [
    "# import matplotlib\n",
    "# matplotlib.use('TkAgg')\n",
    "import numpy as np\n",
    "import math as m\n",
    "import matplotlib.pyplot as plt\n",
    "from scipy.integrate import odeint\n",
    "from functools import reduce\n",
    "import csv\n",
    "%matplotlib inline\n",
    "from util import *"
   ]
  },
  {
   "cell_type": "code",
   "execution_count": 38,
   "metadata": {
    "collapsed": true
   },
   "outputs": [],
   "source": [
    "# %matplotlib inline\n",
    "# r=1.01;\n",
    "# K=2000.;\n",
    "# params=(r,K);\n",
    "# r,K=params\n",
    "# # print(r)\n",
    "# N0=100;\n",
    "\n",
    "# def Ndot(N,t,params):\n",
    "#     r,K=params\n",
    "#     dN=r*N*(1.0-N/K);\n",
    "#     return dN;\n",
    "\n",
    "\n",
    "def Ndot(N,t,params):\n",
    "    (S,I,R)=N;\n",
    "    ki,kr=params;\n",
    "    dS= 0.   -ki*S*I;\n",
    "    dI=ki*S*I-kr*I;\n",
    "    dR=kr*I  -0.;\n",
    "    return (dS,dI,dR)\n",
    "\n",
    "def vfield(axis,Ndot,num=20,scale=1/0.0015,norm_method='none'):\n",
    "    xlim=list(axis.get_xlim());\n",
    "    ylim=list(axis.get_ylim());\n",
    "    x=np.linspace(xlim[0],xlim[1],num);\n",
    "    y=np.linspace(ylim[0],ylim[1],num);\n",
    "    xs,ys=np.meshgrid(x,y);\n",
    "    us,vs=Ndot((xs,ys),0,params);\n",
    "    \n",
    "    ls=(us**2+vs**2)**0.5;        \n",
    "    if norm_method=='log':\n",
    "        lls=np.min(np.log(ls),0);\n",
    "        us=us/ls*lls;\n",
    "        vs=vs/ls*lls;\n",
    "    elif norm_method=='len':\n",
    "        ls=(us**2+vs**2)**0.5;\n",
    "        us=us/ls;\n",
    "        vs=vs/ls;\n",
    "    axis.quiver(xs,ys,us,vs,color='b',scale_units='inches',angles='xy',pivot='mid',scale=scale)\n",
    "\n",
    "\n"
   ]
  },
  {
   "cell_type": "code",
   "execution_count": 63,
   "metadata": {
    "collapsed": false
   },
   "outputs": [
    {
     "data": {
      "image/png": "[encoded data removed]",
      "text/plain": [
       "<matplotlib.figure.Figure at 0x7fed4b725dd0>"
      ]
     },
     "metadata": {},
     "output_type": "display_data"
    }
   ],
   "source": [
    "params=(0.00016,0.2);\n",
    "N0=[(9990,10,0),('S','I','R')];\n",
    "\n",
    "class intobj():\n",
    "    def __init__(self,Ndot,N0,params):\n",
    "        self.fcn=Ndot;\n",
    "        self.ss,self.labels=N0;\n",
    "        self.params=params;\n",
    "    def evo(self,ts):\n",
    "        self.ts=ts;\n",
    "        Ns=odeint(self.fcn,self.ss,ts,args=(self.params,));\n",
    "        intobj.Ns=Ns;\n",
    "        return(Ns)\n",
    "    def line(self,ax,idx):\n",
    "        ax.plot(self.ts,self.Ns[:,idx],label=self.labels[idx]);\n",
    "\n",
    "        \n",
    "        \n",
    "s1=intobj(Ndot,N0,params);\n",
    "s1.evo(np.arange(0,30,0.05))\n",
    "\n",
    "\n",
    "plt.close(\"all\");\n",
    "fig1=plt.figure();\n",
    "ax=plt.subplot(1,1,1)\n",
    "for i in range(3):\n",
    "    s1.line(ax,i)\n",
    "ax.set_xlabel('time(days)')\n",
    "ax.set_ylabel('N')\n",
    "ax.set_title('Population N(t) vs t for SIR model')\n",
    "ax.legend();\n",
    "ax.legend(loc=1)\n",
    "fig1.savefig('task1_q5.png')\n",
    "\n",
    "# ax.plot(ts,intobj.Ns[:,0],label='S')\n",
    "# ax.plot(intobj.Ns[:,1],label='I')\n",
    "# ax.plot(intobj.Ns[:,2],label='R')\n",
    "# t_max=20;\n",
    "# num_tsteps=1001\n",
    "# ts=np.linspace(0,t_max,num_tsteps);\n",
    "# Ns=odeint(Ndot,N0,ts,args=(params,))\n",
    "\n",
    "# ax.plot(ts,Ns,'-',label='N(t)')\n",
    "# vfield(ax,Ndot,20,1/0.0015);\n",
    "\n",
    "    \n",
    "# fig1.show()\n",
    "# help(type(fig1))"
   ]
  }
 ],
 "metadata": {
  "kernelspec": {
   "display_name": "Python 2",
   "language": "python",
   "name": "python2"
  },
  "language_info": {
   "codemirror_mode": {
    "name": "ipython",
    "version": 2
   },
   "file_extension": ".py",
   "mimetype": "text/x-python",
   "name": "python",
   "nbconvert_exporter": "python",
   "pygments_lexer": "ipython2",
   "version": "2.7.12"
  }
 },
 "nbformat": 4,
 "nbformat_minor": 2
}
