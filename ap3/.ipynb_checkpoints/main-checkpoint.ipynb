{
 "cells": [
  {
   "cell_type": "code",
   "execution_count": 4,
   "metadata": {
    "collapsed": false
   },
   "outputs": [
    {
     "data": {
      "text/html": [
       "<script>\n",
       "code_show=true; \n",
       "function code_toggle() {\n",
       " if (code_show){\n",
       " $('div.input').hide();\n",
       " } else {\n",
       " $('div.input').show();\n",
       " }\n",
       " code_show = !code_show\n",
       "} \n",
       "$( document ).ready(code_toggle);\n",
       "</script>\n",
       "<form action=\"javascript:code_toggle()\"><input type=\"submit\" value=\"Click here to toggle on/off the raw code.\"></form>"
      ],
      "text/plain": [
       "<IPython.core.display.HTML object>"
      ]
     },
     "execution_count": 4,
     "metadata": {},
     "output_type": "execute_result"
    }
   ],
   "source": [
    "# from myreport import html_report\n",
    "from IPython.display import HTML\n",
    "tog='''<script>\n",
    "code_show=true; \n",
    "function code_toggle() {\n",
    " if (code_show){\n",
    " $('div.input').hide();\n",
    " } else {\n",
    " $('div.input').show();\n",
    " }\n",
    " code_show = !code_show\n",
    "} \n",
    "$( document ).ready(code_toggle);\n",
    "</script>\n",
    "<form action=\"javascript:code_toggle()\"><input type=\"submit\" value=\"Click here to toggle on/off the raw code.\"></form>''';\n",
    "import random\n",
    "import matplotlib.pyplot as plt\n",
    "%matplotlib inline\n",
    "import numpy as np\n",
    "import copy\n",
    "import math\n",
    "def init_esplot():\n",
    "    plt.close('all');\n",
    "    fig=plt.figure(figsize=[10, 4]);\n",
    "    ax=plt.subplot(1,1,1)\n",
    "    return(ax,fig)\n",
    "HTML(tog)\n"
   ]
  },
  {
   "cell_type": "code",
   "execution_count": null,
   "metadata": {
    "collapsed": true
   },
   "outputs": [],
   "source": [
    "### STOCHASTIC march forward\n",
    "def march(yiter,ytnow,dt,params):\n",
    "    ynow,tnow=ytnow;\n",
    "    yout=yiter(ynow,tnow,params);\n",
    "    tout=tnow+dt;\n",
    "    return (yout,tout);\n",
    "\n",
    "\n",
    "class state():\n",
    "    def __init__(self,yiter,yt,dt):\n",
    "        self.yiter=yiter\n",
    "        self.dt=dt;\n",
    "        self.yt=np.array(yt);\n",
    "#         self.t=0;\n",
    "        self.ys=[yt[0]];\n",
    "        self.ts=[yt[1]];\n",
    "#         self.ts=np.array();\n",
    "    def get_params(self):\n",
    "        pass\n",
    "    def forward(self,dur):\n",
    "        ts=np.arange(self.yt[1],self.yt[1]+dur,self.dt);\n",
    "        for t in ts:\n",
    "            self.yt=march(self.yiter,\n",
    "                          self.yt,\n",
    "                          self.dt,\n",
    "                          self.get_params());\n",
    "#             print(self.ys)\n",
    "            self.ys=np.vstack((np.array(self.ys) ,\n",
    "                                np.array(self.yt[0]) ))\n",
    "        self.ts =self.ts + list(ts);\n",
    "                    \n",
    "        \n",
    "    \n",
    "def yiter(ynow,t,params):\n",
    "    fmrna, nfmrna = ynow;\n",
    "    react= int(random.random() < fmrna/(fmrna+nfmrna));\n",
    "#     print fmrna/(fmrna+nfmrna);\n",
    "    fmrna +=-react;\n",
    "    nfmrna+=react;\n",
    "    \n",
    "    \n",
    "    return  (fmrna,nfmrna)\n",
    "\n",
    "# mrna=state(yiter,[(200.,10.),0.],1.);\n",
    "# mrna.forward(1000);\n",
    "\n",
    "mrna=state(yiter,[(100.,20.),0.],10.);\n",
    "mrna.forward(300);\n",
    "\n",
    "plt.close('all');\n",
    "fig=plt.figure(figsize=[10, 4]);\n",
    "ax=plt.subplot(1,1,1)\n",
    "\n",
    "# ax.plot(mrna.ts,mrna.ys[:,0]);\n",
    "# ax.plot(mrna.ts,mrna.ys[:,1]);\n",
    "\n",
    "runs=[];\n",
    "s0=state(yiter,[(100.,20.),0.],10.);\n",
    "for i in range(6):\n",
    "    s=copy.copy(s0);\n",
    "    s.forward(700)\n",
    "    runs.append(s.ys[:,0]);\n",
    "#     ax.plot(s.ts,s.ys[:,0]);\n",
    "#     ax.plot(s.ts,s.ys[:,1]);\n",
    "ax.plot(s.ts,np.array(runs).T);\n",
    "\n",
    "\n"
   ]
  }
 ],
 "metadata": {
  "kernelspec": {
   "display_name": "Python 2",
   "language": "python",
   "name": "python2"
  },
  "language_info": {
   "codemirror_mode": {
    "name": "ipython",
    "version": 2
   },
   "file_extension": ".py",
   "mimetype": "text/x-python",
   "name": "python",
   "nbconvert_exporter": "python",
   "pygments_lexer": "ipython2",
   "version": "2.7.12"
  }
 },
 "nbformat": 4,
 "nbformat_minor": 2
}
