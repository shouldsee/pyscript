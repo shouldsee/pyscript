{
 "cells": [
  {
   "cell_type": "code",
   "execution_count": 128,
   "metadata": {
    "collapsed": false
   },
   "outputs": [
    {
     "name": "stdout",
     "output_type": "stream",
     "text": [
      "/home/shouldsee/Documents/repos/CA_tfmat\n"
     ]
    },
    {
     "data": {
      "text/html": [
       "<script src=\"https://cdn.jsdelivr.net/clipboard.js/1.6.0/clipboard.js\"></script>"
      ],
      "text/plain": [
       "<IPython.core.display.HTML object>"
      ]
     },
     "execution_count": 128,
     "metadata": {},
     "output_type": "execute_result"
    }
   ],
   "source": [
    "# from mpl_toolkits.mplot3d import Axes3D\n",
    "from mpld3 import plugins\n",
    "import mpld3\n",
    "import sys\n",
    "import os\n",
    "sys.path.append(os.path.abspath('..'))\n",
    "tfmat_path=os.path.abspath('../../CA_tfmat');\n",
    "print(tfmat_path)                           \n",
    "\n",
    "from mpld3 import utils\n",
    "from utils import *\n",
    "from mpl_toolkits.mplot3d import Axes3D\n",
    "%matplotlib inline\n",
    "mpld3.enable_notebook()\n",
    "from IPython.display import HTML\n",
    "src='<script src=\"https://cdn.jsdelivr.net/clipboard.js/1.6.0/clipboard.js\"></script>'\n",
    "HTML(src)"
   ]
  },
  {
   "cell_type": "code",
   "execution_count": 100,
   "metadata": {
    "collapsed": false
   },
   "outputs": [
    {
     "data": {
      "application/javascript": [
       "// require.config({\n",
       "//   paths: {\n",
       "//       Clipboard:'//cdn.jsdelivr.net/clipboard.js/1.6.0/clipboard.min.js'\n",
       "// //       d3: '//cdnjs.cloudflare.com/ajax/libs/d3/3.4.8/d3.min'\n",
       "//   }\n",
       "// });\n",
       "// var txt='1'\n",
       "new Clipboard('.btn', {\n",
       "                            text: function(trigger) {\n",
       "                                return txt;\n",
       "                            }\n",
       "                        });"
      ],
      "text/plain": [
       "<IPython.core.display.Javascript object>"
      ]
     },
     "metadata": {},
     "output_type": "display_data"
    }
   ],
   "source": [
    "%%javascript\n",
    "// require.config({\n",
    "//   paths: {\n",
    "//       Clipboard:'//cdn.jsdelivr.net/clipboard.js/1.6.0/clipboard.min.js'\n",
    "// //       d3: '//cdnjs.cloudflare.com/ajax/libs/d3/3.4.8/d3.min'\n",
    "//   }\n",
    "// });\n",
    "// var txt='1'\n",
    "new Clipboard('.btn', {\n",
    "                            text: function(trigger) {\n",
    "                                return txt;\n",
    "                            }\n",
    "                        });"
   ]
  },
  {
   "cell_type": "code",
   "execution_count": 103,
   "metadata": {
    "collapsed": false
   },
   "outputs": [],
   "source": [
    "\n",
    "class ClickInfo(plugins.PluginBase):\n",
    "    \"\"\"Plugin for getting info on click\"\"\"\n",
    "    \n",
    "    JAVASCRIPT = \"\"\"\n",
    "    mpld3.register_plugin(\"clickinfo\", ClickInfo);\n",
    "    ClickInfo.prototype = Object.create(mpld3.Plugin.prototype);\n",
    "    ClickInfo.prototype.constructor = ClickInfo;\n",
    "    ClickInfo.prototype.requiredProps = [\"id\",\"labels\"];\n",
    "    function ClickInfo(fig, props){\n",
    "        mpld3.Plugin.call(this, fig, props);\n",
    "    };\n",
    "    \n",
    "    ClickInfo.prototype.draw = function(){\n",
    "        var obj = mpld3.get_element(this.props.id);\n",
    "        var labels = (this.props.labels);\n",
    "        obj.elements().on(\"mousedown\",\n",
    "                          function(d, i){\n",
    "                          txt=labels[i];\n",
    "                          window.prompt(\"Copy to clipboard: Ctrl+C, Enter\", txt);\n",
    "                          \n",
    "                          \n",
    "                          });\n",
    "    }\n",
    "    \"\"\"\n",
    "    \n",
    "#     obj.elements().on(\"mousedown\",\n",
    "#                           function(d, i){alert(\"clicked on points[\" + labels[i] + \"]\");});\n",
    "    def __init__(self, points,labels=None):\n",
    "        self.dict_ = {\"type\": \"clickinfo\",\n",
    "                      \"id\": utils.get_id(points),\n",
    "                     \"labels\":labels};\n",
    "\n"
   ]
  },
  {
   "cell_type": "code",
   "execution_count": 166,
   "metadata": {
    "collapsed": false
   },
   "outputs": [],
   "source": [
    "# log=readcsv('log.csv',header=['1','2','3','4','5'])\n",
    "import csv\n",
    "# data=[[]]*5;\n",
    "def csv2dat(fname):\n",
    "    dat=[];\n",
    "    with open(fname, 'r') as csvfile:\n",
    "        spamreader = csv.reader(csvfile, delimiter='\\t', quotechar='|')\n",
    "        for row in (spamreader):\n",
    "            dat+=[row];\n",
    "\n",
    "    return np.array(dat);\n",
    "    \n",
    "# dat[0:5,:]"
   ]
  },
  {
   "cell_type": "code",
   "execution_count": 51,
   "metadata": {
    "collapsed": false
   },
   "outputs": [
    {
     "data": {
      "application/javascript": [
       "IPython.OutputArea.auto_scroll_threshold = 9999;"
      ],
      "text/plain": [
       "<IPython.core.display.Javascript object>"
      ]
     },
     "metadata": {},
     "output_type": "display_data"
    }
   ],
   "source": [
    "%%javascript\n",
    "IPython.OutputArea.auto_scroll_threshold = 9999;"
   ]
  },
  {
   "cell_type": "code",
   "execution_count": 234,
   "metadata": {
    "collapsed": false,
    "scrolled": false
   },
   "outputs": [
    {
     "name": "stderr",
     "output_type": "stream",
     "text": [
      "/home/shouldsee/.local/lib/python3.5/site-packages/matplotlib/cbook.py:136: MatplotlibDeprecationWarning: The axisbg attribute was deprecated in version 2.0. Use facecolor instead.\n",
      "  warnings.warn(message, mplDeprecation, stacklevel=1)\n"
     ]
    },
    {
     "data": {
      "image/png": "[encoded data removed]",
      "text/html": [
       "\n",
       "\n",
       "<style>\n",
       "\n",
       "</style>\n",
       "\n",
       "<div id=\"fig_el248471400627160677363259761037\"></div>\n",
       "<script>\n",
       "function mpld3_load_lib(url, callback){\n",
       "  var s = document.createElement('script');\n",
       "  s.src = url;\n",
       "  s.async = true;\n",
       "  s.onreadystatechange = s.onload = callback;\n",
       "  s.onerror = function(){console.warn(\"failed to load library \" + url);};\n",
       "  document.getElementsByTagName(\"head\")[0].appendChild(s);\n",
       "}\n",
       "\n",
       "if(typeof(mpld3) !== \"undefined\" && mpld3._mpld3IsLoaded){\n",
       "   // already loaded: just create the figure\n",
       "   !function(mpld3){\n",
       "       \n",
       "    mpld3.register_plugin(\"clickinfo\", ClickInfo);\n",
       "    ClickInfo.prototype = Object.create(mpld3.Plugin.prototype);\n",
       "    ClickInfo.prototype.constructor = ClickInfo;\n",
       "    ClickInfo.prototype.requiredProps = [\"id\",\"labels\"];\n",
       "    function ClickInfo(fig, props){\n",
       "        mpld3.Plugin.call(this, fig, props);\n",
       "    };\n",
       "    \n",
       "    ClickInfo.prototype.draw = function(){\n",
       "        var obj = mpld3.get_element(this.props.id);\n",
       "        var labels = (this.props.labels);\n",
       "        obj.elements().on(\"mousedown\",\n",
       "                          function(d, i){\n",
       "                          txt=labels[i];\n",
       "                          window.prompt(\"Copy to clipboard: Ctrl+C, Enter\", txt);\n",
       "                          \n",
       "                          \n",
       "                          });\n",
       "    }\n",
       "    \n",
       "       mpld3.draw_figure(\"fig_el248471400627160677363259761037\", {\"data\": {\"data01\": [[0.774545, 5.251036574453249], [0.710062, 5.376060467536364], [0.781338, 4.220062580616017], [0.736645, 6.383528261339341], [0.773049, 7.00252128438679], [0.76708, 6.168931815887256], [0.792597, 3.9595445366515616], [0.093355, 0.048700636352412785], [0.774257, 5.013920113166021], [0.749264, 4.586180925819169], [0.754749, 5.78723679615163], [0.775131, 3.8280502870357114], [0.692006, 3.9441527523844706], [0.749853, 3.9141781015394206], [0.74853, 5.475564398860543], [0.707954, 6.549465129872993], [0.756422, 5.056731012457062], [0.770052, 4.626196544611727], [0.776325, 4.745931481017914], [0.082514, 2.0974494221260684], [0.795328, 4.091046462799765], [0.007548, 2.025720302217618], [0.764509, 4.981940954432579], [0.749607, 3.6331938962653645], [0.759872, 4.793883753617222], [0.754407, 4.879313641055028], [0.754043, 4.060104677456165], [0.770794, 4.24422941346945], [0.794658, 5.834091411158287], [0.793857, 4.332692945321395], [0.772302, 4.660579528316103], [0.786071, 6.353480239824464], [0.779468, 6.002705868531527], [0.720892, 4.357014126234788], [0.783765, 4.887864736403833], [0.76737, 5.6392731264264295], [0.754417, 4.591081099288394], [0.715585, 6.8021039577111235], [0.767761, 5.467731272717849], [0.768225, 5.245031546293341], [0.768147, 5.248855856576433], [0.739734, 4.2146079267255425], [0.755744, 6.89845066803699], [0.769271, 5.080804477013114], [0.777726, 4.7662413950441564], [0.763516, 5.7340053476161055], [0.731953, 4.34895522971036], [0.755059, 6.02530797759466], [0.754233, 5.283577085427644], [0.767731, 4.263348892637087], [0.772189, 4.29440118281523], [0.767663, 4.971893952959181], [0.767049, 3.877539650054753], [0.766525, 4.842529690113709], [0.788192, 6.672159662748548], [0.73193, 5.948888661252459], [0.770667, 4.804395917082787], [0.708613, 4.13235621141871], [0.769302, 4.577077289980801], [0.754592, 7.192184376242539], [0.79935, 5.304981769996632], [0.78819, 4.155476647414076], [0.789378, 5.136235935451525], [0.791798, 5.1785058868643965], [0.780901, 5.106279115205827], [0.792343, 8.256826137714897]]}, \"axes\": [{\"axesbgalpha\": null, \"ydomain\": [-0.37034237127930913, 8.68467777637739], \"bbox\": [0.125, 0.125, 0.775, 0.755], \"images\": [], \"yscale\": \"linear\", \"zoomable\": true, \"xlim\": [-0.04365825082594389, 0.850556250825944], \"collections\": [{\"zorder\": 1, \"paths\": [[[[0.0, -0.5], [0.13260155, -0.5], [0.25978993539242673, -0.44731684579412084], [0.3535533905932738, -0.3535533905932738], [0.44731684579412084, -0.25978993539242673], [0.5, -0.13260155], [0.5, 0.0], [0.5, 0.13260155], [0.44731684579412084, 0.25978993539242673], [0.3535533905932738, 0.3535533905932738], [0.25978993539242673, 0.44731684579412084], [0.13260155, 0.5], [0.0, 0.5], [-0.13260155, 0.5], [-0.25978993539242673, 0.44731684579412084], [-0.3535533905932738, 0.3535533905932738], [-0.44731684579412084, 0.25978993539242673], [-0.5, 0.13260155], [-0.5, 0.0], [-0.5, -0.13260155], [-0.44731684579412084, -0.25978993539242673], [-0.3535533905932738, -0.3535533905932738], [-0.25978993539242673, -0.44731684579412084], [-0.13260155, -0.5], [0.0, -0.5]], [\"M\", \"C\", \"C\", \"C\", \"C\", \"C\", \"C\", \"C\", \"C\", \"Z\"]]], \"yindex\": 1, \"pathtransforms\": [[7.0710678118654755, 0.0, 0.0, 7.0710678118654755, 0.0, 0.0], [7.0710678118654755, 0.0, 0.0, 7.0710678118654755, 0.0, 0.0], [7.0710678118654755, 0.0, 0.0, 7.0710678118654755, 0.0, 0.0], [7.0710678118654755, 0.0, 0.0, 7.0710678118654755, 0.0, 0.0], [7.0710678118654755, 0.0, 0.0, 7.0710678118654755, 0.0, 0.0], [7.0710678118654755, 0.0, 0.0, 7.0710678118654755, 0.0, 0.0], [7.0710678118654755, 0.0, 0.0, 7.0710678118654755, 0.0, 0.0], [3.24037034920393, 0.0, 0.0, 3.24037034920393, 0.0, 0.0], [7.0710678118654755, 0.0, 0.0, 7.0710678118654755, 0.0, 0.0], [7.0710678118654755, 0.0, 0.0, 7.0710678118654755, 0.0, 0.0], [7.0710678118654755, 0.0, 0.0, 7.0710678118654755, 0.0, 0.0], [7.0710678118654755, 0.0, 0.0, 7.0710678118654755, 0.0, 0.0], [7.0710678118654755, 0.0, 0.0, 7.0710678118654755, 0.0, 0.0], [7.0710678118654755, 0.0, 0.0, 7.0710678118654755, 0.0, 0.0], [7.0710678118654755, 0.0, 0.0, 7.0710678118654755, 0.0, 0.0], [7.0710678118654755, 0.0, 0.0, 7.0710678118654755, 0.0, 0.0], [7.0710678118654755, 0.0, 0.0, 7.0710678118654755, 0.0, 0.0], [7.0710678118654755, 0.0, 0.0, 7.0710678118654755, 0.0, 0.0], [7.0710678118654755, 0.0, 0.0, 7.0710678118654755, 0.0, 0.0], [7.0710678118654755, 0.0, 0.0, 7.0710678118654755, 0.0, 0.0], [7.0710678118654755, 0.0, 0.0, 7.0710678118654755, 0.0, 0.0], [7.0710678118654755, 0.0, 0.0, 7.0710678118654755, 0.0, 0.0], [7.0710678118654755, 0.0, 0.0, 7.0710678118654755, 0.0, 0.0], [7.0710678118654755, 0.0, 0.0, 7.0710678118654755, 0.0, 0.0], [7.0710678118654755, 0.0, 0.0, 7.0710678118654755, 0.0, 0.0], [7.0710678118654755, 0.0, 0.0, 7.0710678118654755, 0.0, 0.0], [7.0710678118654755, 0.0, 0.0, 7.0710678118654755, 0.0, 0.0], [7.0710678118654755, 0.0, 0.0, 7.0710678118654755, 0.0, 0.0], [7.0710678118654755, 0.0, 0.0, 7.0710678118654755, 0.0, 0.0], [7.0710678118654755, 0.0, 0.0, 7.0710678118654755, 0.0, 0.0], [7.0710678118654755, 0.0, 0.0, 7.0710678118654755, 0.0, 0.0], [7.0710678118654755, 0.0, 0.0, 7.0710678118654755, 0.0, 0.0], [7.0710678118654755, 0.0, 0.0, 7.0710678118654755, 0.0, 0.0], [7.0710678118654755, 0.0, 0.0, 7.0710678118654755, 0.0, 0.0], [7.0710678118654755, 0.0, 0.0, 7.0710678118654755, 0.0, 0.0], [7.0710678118654755, 0.0, 0.0, 7.0710678118654755, 0.0, 0.0], [7.0710678118654755, 0.0, 0.0, 7.0710678118654755, 0.0, 0.0], [7.0710678118654755, 0.0, 0.0, 7.0710678118654755, 0.0, 0.0], [7.0710678118654755, 0.0, 0.0, 7.0710678118654755, 0.0, 0.0], [7.0710678118654755, 0.0, 0.0, 7.0710678118654755, 0.0, 0.0], [7.0710678118654755, 0.0, 0.0, 7.0710678118654755, 0.0, 0.0], [7.0710678118654755, 0.0, 0.0, 7.0710678118654755, 0.0, 0.0], [7.0710678118654755, 0.0, 0.0, 7.0710678118654755, 0.0, 0.0], [7.0710678118654755, 0.0, 0.0, 7.0710678118654755, 0.0, 0.0], [7.0710678118654755, 0.0, 0.0, 7.0710678118654755, 0.0, 0.0], [7.0710678118654755, 0.0, 0.0, 7.0710678118654755, 0.0, 0.0], [7.0710678118654755, 0.0, 0.0, 7.0710678118654755, 0.0, 0.0], [7.0710678118654755, 0.0, 0.0, 7.0710678118654755, 0.0, 0.0], [7.0710678118654755, 0.0, 0.0, 7.0710678118654755, 0.0, 0.0], [7.0710678118654755, 0.0, 0.0, 7.0710678118654755, 0.0, 0.0], [7.0710678118654755, 0.0, 0.0, 7.0710678118654755, 0.0, 0.0], [7.0710678118654755, 0.0, 0.0, 7.0710678118654755, 0.0, 0.0], [7.0710678118654755, 0.0, 0.0, 7.0710678118654755, 0.0, 0.0], [7.0710678118654755, 0.0, 0.0, 7.0710678118654755, 0.0, 0.0], [7.0710678118654755, 0.0, 0.0, 7.0710678118654755, 0.0, 0.0], [7.0710678118654755, 0.0, 0.0, 7.0710678118654755, 0.0, 0.0], [7.0710678118654755, 0.0, 0.0, 7.0710678118654755, 0.0, 0.0], [7.0710678118654755, 0.0, 0.0, 7.0710678118654755, 0.0, 0.0], [7.0710678118654755, 0.0, 0.0, 7.0710678118654755, 0.0, 0.0], [7.0710678118654755, 0.0, 0.0, 7.0710678118654755, 0.0, 0.0], [7.0710678118654755, 0.0, 0.0, 7.0710678118654755, 0.0, 0.0], [7.0710678118654755, 0.0, 0.0, 7.0710678118654755, 0.0, 0.0], [7.0710678118654755, 0.0, 0.0, 7.0710678118654755, 0.0, 0.0], [7.0710678118654755, 0.0, 0.0, 7.0710678118654755, 0.0, 0.0], [7.0710678118654755, 0.0, 0.0, 7.0710678118654755, 0.0, 0.0], [7.0710678118654755, 0.0, 0.0, 7.0710678118654755, 0.0, 0.0]], \"facecolors\": [\"#A30000\", \"#FE1200\", \"#960000\", \"#DA0000\", \"#A30000\", \"#AC0000\", \"#880000\", \"#0000FA\", \"#A30000\", \"#C80000\", \"#BF0000\", \"#9F0000\", \"#FF2800\", \"#C80000\", \"#C80000\", \"#FF1600\", \"#BA0000\", \"#A80000\", \"#9F0000\", \"#0000EC\", \"#840000\", \"#00007F\", \"#B10000\", \"#C80000\", \"#B60000\", \"#BF0000\", \"#BF0000\", \"#A80000\", \"#840000\", \"#840000\", \"#A30000\", \"#910000\", \"#9A0000\", \"#F10700\", \"#960000\", \"#AC0000\", \"#BF0000\", \"#FA0F00\", \"#AC0000\", \"#AC0000\", \"#AC0000\", \"#D50000\", \"#BF0000\", \"#A80000\", \"#9A0000\", \"#B10000\", \"#DE0000\", \"#BF0000\", \"#BF0000\", \"#AC0000\", \"#A30000\", \"#AC0000\", \"#AC0000\", \"#AC0000\", \"#8D0000\", \"#DE0000\", \"#A80000\", \"#FF1600\", \"#A80000\", \"#BF0000\", \"#7F0000\", \"#8D0000\", \"#8D0000\", \"#880000\", \"#960000\", \"#880000\"], \"xindex\": 0, \"edgewidths\": [1.0], \"offsets\": \"data01\", \"pathcoordinates\": \"display\", \"id\": \"el24847140062483144040\", \"offsetcoordinates\": \"data\", \"alphas\": [1.0], \"edgecolors\": [\"#A30000\", \"#FE1200\", \"#960000\", \"#DA0000\", \"#A30000\", \"#AC0000\", \"#880000\", \"#0000FA\", \"#A30000\", \"#C80000\", \"#BF0000\", \"#9F0000\", \"#FF2800\", \"#C80000\", \"#C80000\", \"#FF1600\", \"#BA0000\", \"#A80000\", \"#9F0000\", \"#0000EC\", \"#840000\", \"#00007F\", \"#B10000\", \"#C80000\", \"#B60000\", \"#BF0000\", \"#BF0000\", \"#A80000\", \"#840000\", \"#840000\", \"#A30000\", \"#910000\", \"#9A0000\", \"#F10700\", \"#960000\", \"#AC0000\", \"#BF0000\", \"#FA0F00\", \"#AC0000\", \"#AC0000\", \"#AC0000\", \"#D50000\", \"#BF0000\", \"#A80000\", \"#9A0000\", \"#B10000\", \"#DE0000\", \"#BF0000\", \"#BF0000\", \"#AC0000\", \"#A30000\", \"#AC0000\", \"#AC0000\", \"#AC0000\", \"#8D0000\", \"#DE0000\", \"#A80000\", \"#FF1600\", \"#A80000\", \"#BF0000\", \"#7F0000\", \"#8D0000\", \"#8D0000\", \"#880000\", \"#960000\", \"#880000\"]}], \"id\": \"el24847140062488476024\", \"sharex\": [], \"paths\": [], \"axesbg\": \"#DDDDDD\", \"texts\": [{\"zorder\": 3, \"fontsize\": 20.0, \"coordinates\": \"axes\", \"h_anchor\": \"middle\", \"rotation\": -0.0, \"position\": [0.49999999999999994, 1.0275938189845473], \"alpha\": 1, \"text\": \"D3 Scatter Plot (with tooltips!)\", \"id\": \"el24847140062485272112\", \"v_baseline\": \"auto\", \"color\": \"#000000\"}], \"sharey\": [], \"xdomain\": [-0.04365825082594389, 0.850556250825944], \"axes\": [{\"tickvalues\": null, \"visible\": true, \"nticks\": 11, \"tickformat\": null, \"grid\": {\"alpha\": 1.0, \"gridOn\": true, \"color\": \"#FFFFFF\", \"dasharray\": \"none\"}, \"position\": \"bottom\", \"fontsize\": 10.0, \"scale\": \"linear\"}, {\"tickvalues\": null, \"visible\": true, \"nticks\": 7, \"tickformat\": null, \"grid\": {\"alpha\": 1.0, \"gridOn\": true, \"color\": \"#FFFFFF\", \"dasharray\": \"none\"}, \"position\": \"left\", \"fontsize\": 10.0, \"scale\": \"linear\"}], \"xscale\": \"linear\", \"ylim\": [-0.37034237127930913, 8.68467777637739], \"lines\": [], \"markers\": []}], \"id\": \"el24847140062716067736\", \"height\": 288.0, \"width\": 432.0, \"plugins\": [{\"type\": \"reset\"}, {\"type\": \"zoom\", \"button\": true, \"enabled\": false}, {\"type\": \"boxzoom\", \"button\": true, \"enabled\": false}, {\"labels\": [\"00a4fbe7657d1ded43ed1b738b\", \"2a410d94f28594481b32841ba1\", \"2caef7fd43e2d236b45978c07d\", \"29b9574b1a7f8066be2302e009\", \"1bc9a4ddb86078850cf31ad9c5\", \"34061420974323ca3e6cda7f3c\", \"2bca509b201fb23e67c9eb3016\", \"262cdbc8936b35b178fd07c040\", \"3ed4ee4420878ed9892e5c1a28\", \"202fc35611af0d47501e485c45\", \"0091dadaa13abb60ea098a7831\", \"01e204571b77f70973a24a5b28\", \"152c2b3df869846375d616fe5b\", \"248175160c4692c1ce0fbad3ae\", \"3f6e37c219817331704f1ccbbd\", \"23de8b3596f9065595e4736082\", \"1a0a6e3e18bae4e7a897b7a854\", \"2e58f8a9e1ab2c3a603e6d058c\", \"2295fee90edb8274d7728a8e12\", \"0b7f4f23cbc85b2d6171f7a310\", \"3a887a49b73b68ae53073e47d8\", \"39f6c2fe7504b0ee5d1f27e3d2\", \"208ca78999caf2fe50a8c9f6bc\", \"3b8f98ea3018582f5d9cdc74ca\", \"1f7da9e815733727a1b71cd365\", \"0c80e6d99fba1d6d6331b722ca\", \"04e554e1e4e8d5995b26f475d2\", \"38aef048d9fd85e6ab8b53ad6d\", \"3ac8d0e6eaa752159f4a612be3\", \"0fec76137634f3a444e6de378c\", \"2e276786eab76060309a527677\", \"1e0218014ececfb7c8d84ed44a\", \"05190be30b7808d71a7a96cbce\", \"07592b10a65c309f2e01907e05\", \"3d0362812ce702e8ff9a634e89\", \"326082bc3ebfbaf0a07f956cd7\", \"05caf44f9681d6da3fd893101a\", \"04ca302d5518e3ca88b1828a62\", \"08a37ce84c2937b7b8100da6dd\", \"153589dfa831a6a6dc39e2397e\", \"223e1ff1387fa3146a94f7ffc9\", \"240ac6d63dcc36db6bb4975d78\", \"23e9f8f2f6367d0e23bf239098\", \"1f175dee1b30af1b6c5bde55b9\", \"388ef3798e60eebbd754303445\", \"355512e329b3661ff410ddfda9\", \"1ceef9d7b6d7c84462ca61468c\", \"063e18ff890ed726f5419377c5\", \"3d0c6a7bb38bf6393ecd898d9e\", \"0b41574909f37a7a79f699ed35\", \"33076a6343c5b53530bd5da5eb\", \"16def296ce19ca6fdbe415b4ef\", \"1a68a1b063138216087f3a41df\", \"246f6d96ddb45c5ca0fc39dbab\", \"2ea0676e3a64516e0f46141e2e\", \"02fabe17327fc359ab36fcfcab\", \"07797cb6fd05272e83435b6845\", \"0f37cac0edfed7711eadf76523\", \"2d7d9b580fc1e5924100a217b5\", \"08e130d7d1610c86c2e84fd12a\", \"0ab8eed725e04dc1c3cc4f9b3b\", \"00e095c49e855d8bab6a495417\", \"30113eaad0ff53e8d7ace838a2\", \"253c13c3cca3d55f7196c0d326\", \"214f10a6532ec865dd69671d64\", \"09f1bdacf125f4545a391d02cd\"], \"location\": \"mouse\", \"hoffset\": 0, \"id\": \"el24847140062483144040\", \"voffset\": 10, \"type\": \"tooltip\"}, {\"type\": \"zoom\", \"button\": true, \"enabled\": true}, {\"id\": \"el24847140062483144040\", \"type\": \"clickinfo\", \"labels\": [\"00a4fbe7657d1ded43ed1b738b\", \"2a410d94f28594481b32841ba1\", \"2caef7fd43e2d236b45978c07d\", \"29b9574b1a7f8066be2302e009\", \"1bc9a4ddb86078850cf31ad9c5\", \"34061420974323ca3e6cda7f3c\", \"2bca509b201fb23e67c9eb3016\", \"262cdbc8936b35b178fd07c040\", \"3ed4ee4420878ed9892e5c1a28\", \"202fc35611af0d47501e485c45\", \"0091dadaa13abb60ea098a7831\", \"01e204571b77f70973a24a5b28\", \"152c2b3df869846375d616fe5b\", \"248175160c4692c1ce0fbad3ae\", \"3f6e37c219817331704f1ccbbd\", \"23de8b3596f9065595e4736082\", \"1a0a6e3e18bae4e7a897b7a854\", \"2e58f8a9e1ab2c3a603e6d058c\", \"2295fee90edb8274d7728a8e12\", \"0b7f4f23cbc85b2d6171f7a310\", \"3a887a49b73b68ae53073e47d8\", \"39f6c2fe7504b0ee5d1f27e3d2\", \"208ca78999caf2fe50a8c9f6bc\", \"3b8f98ea3018582f5d9cdc74ca\", \"1f7da9e815733727a1b71cd365\", \"0c80e6d99fba1d6d6331b722ca\", \"04e554e1e4e8d5995b26f475d2\", \"38aef048d9fd85e6ab8b53ad6d\", \"3ac8d0e6eaa752159f4a612be3\", \"0fec76137634f3a444e6de378c\", \"2e276786eab76060309a527677\", \"1e0218014ececfb7c8d84ed44a\", \"05190be30b7808d71a7a96cbce\", \"07592b10a65c309f2e01907e05\", \"3d0362812ce702e8ff9a634e89\", \"326082bc3ebfbaf0a07f956cd7\", \"05caf44f9681d6da3fd893101a\", \"04ca302d5518e3ca88b1828a62\", \"08a37ce84c2937b7b8100da6dd\", \"153589dfa831a6a6dc39e2397e\", \"223e1ff1387fa3146a94f7ffc9\", \"240ac6d63dcc36db6bb4975d78\", \"23e9f8f2f6367d0e23bf239098\", \"1f175dee1b30af1b6c5bde55b9\", \"388ef3798e60eebbd754303445\", \"355512e329b3661ff410ddfda9\", \"1ceef9d7b6d7c84462ca61468c\", \"063e18ff890ed726f5419377c5\", \"3d0c6a7bb38bf6393ecd898d9e\", \"0b41574909f37a7a79f699ed35\", \"33076a6343c5b53530bd5da5eb\", \"16def296ce19ca6fdbe415b4ef\", \"1a68a1b063138216087f3a41df\", \"246f6d96ddb45c5ca0fc39dbab\", \"2ea0676e3a64516e0f46141e2e\", \"02fabe17327fc359ab36fcfcab\", \"07797cb6fd05272e83435b6845\", \"0f37cac0edfed7711eadf76523\", \"2d7d9b580fc1e5924100a217b5\", \"08e130d7d1610c86c2e84fd12a\", \"0ab8eed725e04dc1c3cc4f9b3b\", \"00e095c49e855d8bab6a495417\", \"30113eaad0ff53e8d7ace838a2\", \"253c13c3cca3d55f7196c0d326\", \"214f10a6532ec865dd69671d64\", \"09f1bdacf125f4545a391d02cd\"]}]});\n",
       "   }(mpld3);\n",
       "}else if(typeof define === \"function\" && define.amd){\n",
       "   // require.js is available: use it to load d3/mpld3\n",
       "   require.config({paths: {d3: \"https://mpld3.github.io/js/d3.v3.min\"}});\n",
       "   require([\"d3\"], function(d3){\n",
       "      window.d3 = d3;\n",
       "      mpld3_load_lib(\"https://mpld3.github.io/js/mpld3.v0.3.js\", function(){\n",
       "         \n",
       "    mpld3.register_plugin(\"clickinfo\", ClickInfo);\n",
       "    ClickInfo.prototype = Object.create(mpld3.Plugin.prototype);\n",
       "    ClickInfo.prototype.constructor = ClickInfo;\n",
       "    ClickInfo.prototype.requiredProps = [\"id\",\"labels\"];\n",
       "    function ClickInfo(fig, props){\n",
       "        mpld3.Plugin.call(this, fig, props);\n",
       "    };\n",
       "    \n",
       "    ClickInfo.prototype.draw = function(){\n",
       "        var obj = mpld3.get_element(this.props.id);\n",
       "        var labels = (this.props.labels);\n",
       "        obj.elements().on(\"mousedown\",\n",
       "                          function(d, i){\n",
       "                          txt=labels[i];\n",
       "                          window.prompt(\"Copy to clipboard: Ctrl+C, Enter\", txt);\n",
       "                          \n",
       "                          \n",
       "                          });\n",
       "    }\n",
       "    \n",
       "         mpld3.draw_figure(\"fig_el248471400627160677363259761037\", {\"data\": {\"data01\": [[0.774545, 5.251036574453249], [0.710062, 5.376060467536364], [0.781338, 4.220062580616017], [0.736645, 6.383528261339341], [0.773049, 7.00252128438679], [0.76708, 6.168931815887256], [0.792597, 3.9595445366515616], [0.093355, 0.048700636352412785], [0.774257, 5.013920113166021], [0.749264, 4.586180925819169], [0.754749, 5.78723679615163], [0.775131, 3.8280502870357114], [0.692006, 3.9441527523844706], [0.749853, 3.9141781015394206], [0.74853, 5.475564398860543], [0.707954, 6.549465129872993], [0.756422, 5.056731012457062], [0.770052, 4.626196544611727], [0.776325, 4.745931481017914], [0.082514, 2.0974494221260684], [0.795328, 4.091046462799765], [0.007548, 2.025720302217618], [0.764509, 4.981940954432579], [0.749607, 3.6331938962653645], [0.759872, 4.793883753617222], [0.754407, 4.879313641055028], [0.754043, 4.060104677456165], [0.770794, 4.24422941346945], [0.794658, 5.834091411158287], [0.793857, 4.332692945321395], [0.772302, 4.660579528316103], [0.786071, 6.353480239824464], [0.779468, 6.002705868531527], [0.720892, 4.357014126234788], [0.783765, 4.887864736403833], [0.76737, 5.6392731264264295], [0.754417, 4.591081099288394], [0.715585, 6.8021039577111235], [0.767761, 5.467731272717849], [0.768225, 5.245031546293341], [0.768147, 5.248855856576433], [0.739734, 4.2146079267255425], [0.755744, 6.89845066803699], [0.769271, 5.080804477013114], [0.777726, 4.7662413950441564], [0.763516, 5.7340053476161055], [0.731953, 4.34895522971036], [0.755059, 6.02530797759466], [0.754233, 5.283577085427644], [0.767731, 4.263348892637087], [0.772189, 4.29440118281523], [0.767663, 4.971893952959181], [0.767049, 3.877539650054753], [0.766525, 4.842529690113709], [0.788192, 6.672159662748548], [0.73193, 5.948888661252459], [0.770667, 4.804395917082787], [0.708613, 4.13235621141871], [0.769302, 4.577077289980801], [0.754592, 7.192184376242539], [0.79935, 5.304981769996632], [0.78819, 4.155476647414076], [0.789378, 5.136235935451525], [0.791798, 5.1785058868643965], [0.780901, 5.106279115205827], [0.792343, 8.256826137714897]]}, \"axes\": [{\"axesbgalpha\": null, \"ydomain\": [-0.37034237127930913, 8.68467777637739], \"bbox\": [0.125, 0.125, 0.775, 0.755], \"images\": [], \"yscale\": \"linear\", \"zoomable\": true, \"xlim\": [-0.04365825082594389, 0.850556250825944], \"collections\": [{\"zorder\": 1, \"paths\": [[[[0.0, -0.5], [0.13260155, -0.5], [0.25978993539242673, -0.44731684579412084], [0.3535533905932738, -0.3535533905932738], [0.44731684579412084, -0.25978993539242673], [0.5, -0.13260155], [0.5, 0.0], [0.5, 0.13260155], [0.44731684579412084, 0.25978993539242673], [0.3535533905932738, 0.3535533905932738], [0.25978993539242673, 0.44731684579412084], [0.13260155, 0.5], [0.0, 0.5], [-0.13260155, 0.5], [-0.25978993539242673, 0.44731684579412084], [-0.3535533905932738, 0.3535533905932738], [-0.44731684579412084, 0.25978993539242673], [-0.5, 0.13260155], [-0.5, 0.0], [-0.5, -0.13260155], [-0.44731684579412084, -0.25978993539242673], [-0.3535533905932738, -0.3535533905932738], [-0.25978993539242673, -0.44731684579412084], [-0.13260155, -0.5], [0.0, -0.5]], [\"M\", \"C\", \"C\", \"C\", \"C\", \"C\", \"C\", \"C\", \"C\", \"Z\"]]], \"yindex\": 1, \"pathtransforms\": [[7.0710678118654755, 0.0, 0.0, 7.0710678118654755, 0.0, 0.0], [7.0710678118654755, 0.0, 0.0, 7.0710678118654755, 0.0, 0.0], [7.0710678118654755, 0.0, 0.0, 7.0710678118654755, 0.0, 0.0], [7.0710678118654755, 0.0, 0.0, 7.0710678118654755, 0.0, 0.0], [7.0710678118654755, 0.0, 0.0, 7.0710678118654755, 0.0, 0.0], [7.0710678118654755, 0.0, 0.0, 7.0710678118654755, 0.0, 0.0], [7.0710678118654755, 0.0, 0.0, 7.0710678118654755, 0.0, 0.0], [3.24037034920393, 0.0, 0.0, 3.24037034920393, 0.0, 0.0], [7.0710678118654755, 0.0, 0.0, 7.0710678118654755, 0.0, 0.0], [7.0710678118654755, 0.0, 0.0, 7.0710678118654755, 0.0, 0.0], [7.0710678118654755, 0.0, 0.0, 7.0710678118654755, 0.0, 0.0], [7.0710678118654755, 0.0, 0.0, 7.0710678118654755, 0.0, 0.0], [7.0710678118654755, 0.0, 0.0, 7.0710678118654755, 0.0, 0.0], [7.0710678118654755, 0.0, 0.0, 7.0710678118654755, 0.0, 0.0], [7.0710678118654755, 0.0, 0.0, 7.0710678118654755, 0.0, 0.0], [7.0710678118654755, 0.0, 0.0, 7.0710678118654755, 0.0, 0.0], [7.0710678118654755, 0.0, 0.0, 7.0710678118654755, 0.0, 0.0], [7.0710678118654755, 0.0, 0.0, 7.0710678118654755, 0.0, 0.0], [7.0710678118654755, 0.0, 0.0, 7.0710678118654755, 0.0, 0.0], [7.0710678118654755, 0.0, 0.0, 7.0710678118654755, 0.0, 0.0], [7.0710678118654755, 0.0, 0.0, 7.0710678118654755, 0.0, 0.0], [7.0710678118654755, 0.0, 0.0, 7.0710678118654755, 0.0, 0.0], [7.0710678118654755, 0.0, 0.0, 7.0710678118654755, 0.0, 0.0], [7.0710678118654755, 0.0, 0.0, 7.0710678118654755, 0.0, 0.0], [7.0710678118654755, 0.0, 0.0, 7.0710678118654755, 0.0, 0.0], [7.0710678118654755, 0.0, 0.0, 7.0710678118654755, 0.0, 0.0], [7.0710678118654755, 0.0, 0.0, 7.0710678118654755, 0.0, 0.0], [7.0710678118654755, 0.0, 0.0, 7.0710678118654755, 0.0, 0.0], [7.0710678118654755, 0.0, 0.0, 7.0710678118654755, 0.0, 0.0], [7.0710678118654755, 0.0, 0.0, 7.0710678118654755, 0.0, 0.0], [7.0710678118654755, 0.0, 0.0, 7.0710678118654755, 0.0, 0.0], [7.0710678118654755, 0.0, 0.0, 7.0710678118654755, 0.0, 0.0], [7.0710678118654755, 0.0, 0.0, 7.0710678118654755, 0.0, 0.0], [7.0710678118654755, 0.0, 0.0, 7.0710678118654755, 0.0, 0.0], [7.0710678118654755, 0.0, 0.0, 7.0710678118654755, 0.0, 0.0], [7.0710678118654755, 0.0, 0.0, 7.0710678118654755, 0.0, 0.0], [7.0710678118654755, 0.0, 0.0, 7.0710678118654755, 0.0, 0.0], [7.0710678118654755, 0.0, 0.0, 7.0710678118654755, 0.0, 0.0], [7.0710678118654755, 0.0, 0.0, 7.0710678118654755, 0.0, 0.0], [7.0710678118654755, 0.0, 0.0, 7.0710678118654755, 0.0, 0.0], [7.0710678118654755, 0.0, 0.0, 7.0710678118654755, 0.0, 0.0], [7.0710678118654755, 0.0, 0.0, 7.0710678118654755, 0.0, 0.0], [7.0710678118654755, 0.0, 0.0, 7.0710678118654755, 0.0, 0.0], [7.0710678118654755, 0.0, 0.0, 7.0710678118654755, 0.0, 0.0], [7.0710678118654755, 0.0, 0.0, 7.0710678118654755, 0.0, 0.0], [7.0710678118654755, 0.0, 0.0, 7.0710678118654755, 0.0, 0.0], [7.0710678118654755, 0.0, 0.0, 7.0710678118654755, 0.0, 0.0], [7.0710678118654755, 0.0, 0.0, 7.0710678118654755, 0.0, 0.0], [7.0710678118654755, 0.0, 0.0, 7.0710678118654755, 0.0, 0.0], [7.0710678118654755, 0.0, 0.0, 7.0710678118654755, 0.0, 0.0], [7.0710678118654755, 0.0, 0.0, 7.0710678118654755, 0.0, 0.0], [7.0710678118654755, 0.0, 0.0, 7.0710678118654755, 0.0, 0.0], [7.0710678118654755, 0.0, 0.0, 7.0710678118654755, 0.0, 0.0], [7.0710678118654755, 0.0, 0.0, 7.0710678118654755, 0.0, 0.0], [7.0710678118654755, 0.0, 0.0, 7.0710678118654755, 0.0, 0.0], [7.0710678118654755, 0.0, 0.0, 7.0710678118654755, 0.0, 0.0], [7.0710678118654755, 0.0, 0.0, 7.0710678118654755, 0.0, 0.0], [7.0710678118654755, 0.0, 0.0, 7.0710678118654755, 0.0, 0.0], [7.0710678118654755, 0.0, 0.0, 7.0710678118654755, 0.0, 0.0], [7.0710678118654755, 0.0, 0.0, 7.0710678118654755, 0.0, 0.0], [7.0710678118654755, 0.0, 0.0, 7.0710678118654755, 0.0, 0.0], [7.0710678118654755, 0.0, 0.0, 7.0710678118654755, 0.0, 0.0], [7.0710678118654755, 0.0, 0.0, 7.0710678118654755, 0.0, 0.0], [7.0710678118654755, 0.0, 0.0, 7.0710678118654755, 0.0, 0.0], [7.0710678118654755, 0.0, 0.0, 7.0710678118654755, 0.0, 0.0], [7.0710678118654755, 0.0, 0.0, 7.0710678118654755, 0.0, 0.0]], \"facecolors\": [\"#A30000\", \"#FE1200\", \"#960000\", \"#DA0000\", \"#A30000\", \"#AC0000\", \"#880000\", \"#0000FA\", \"#A30000\", \"#C80000\", \"#BF0000\", \"#9F0000\", \"#FF2800\", \"#C80000\", \"#C80000\", \"#FF1600\", \"#BA0000\", \"#A80000\", \"#9F0000\", \"#0000EC\", \"#840000\", \"#00007F\", \"#B10000\", \"#C80000\", \"#B60000\", \"#BF0000\", \"#BF0000\", \"#A80000\", \"#840000\", \"#840000\", \"#A30000\", \"#910000\", \"#9A0000\", \"#F10700\", \"#960000\", \"#AC0000\", \"#BF0000\", \"#FA0F00\", \"#AC0000\", \"#AC0000\", \"#AC0000\", \"#D50000\", \"#BF0000\", \"#A80000\", \"#9A0000\", \"#B10000\", \"#DE0000\", \"#BF0000\", \"#BF0000\", \"#AC0000\", \"#A30000\", \"#AC0000\", \"#AC0000\", \"#AC0000\", \"#8D0000\", \"#DE0000\", \"#A80000\", \"#FF1600\", \"#A80000\", \"#BF0000\", \"#7F0000\", \"#8D0000\", \"#8D0000\", \"#880000\", \"#960000\", \"#880000\"], \"xindex\": 0, \"edgewidths\": [1.0], \"offsets\": \"data01\", \"pathcoordinates\": \"display\", \"id\": \"el24847140062483144040\", \"offsetcoordinates\": \"data\", \"alphas\": [1.0], \"edgecolors\": [\"#A30000\", \"#FE1200\", \"#960000\", \"#DA0000\", \"#A30000\", \"#AC0000\", \"#880000\", \"#0000FA\", \"#A30000\", \"#C80000\", \"#BF0000\", \"#9F0000\", \"#FF2800\", \"#C80000\", \"#C80000\", \"#FF1600\", \"#BA0000\", \"#A80000\", \"#9F0000\", \"#0000EC\", \"#840000\", \"#00007F\", \"#B10000\", \"#C80000\", \"#B60000\", \"#BF0000\", \"#BF0000\", \"#A80000\", \"#840000\", \"#840000\", \"#A30000\", \"#910000\", \"#9A0000\", \"#F10700\", \"#960000\", \"#AC0000\", \"#BF0000\", \"#FA0F00\", \"#AC0000\", \"#AC0000\", \"#AC0000\", \"#D50000\", \"#BF0000\", \"#A80000\", \"#9A0000\", \"#B10000\", \"#DE0000\", \"#BF0000\", \"#BF0000\", \"#AC0000\", \"#A30000\", \"#AC0000\", \"#AC0000\", \"#AC0000\", \"#8D0000\", \"#DE0000\", \"#A80000\", \"#FF1600\", \"#A80000\", \"#BF0000\", \"#7F0000\", \"#8D0000\", \"#8D0000\", \"#880000\", \"#960000\", \"#880000\"]}], \"id\": \"el24847140062488476024\", \"sharex\": [], \"paths\": [], \"axesbg\": \"#DDDDDD\", \"texts\": [{\"zorder\": 3, \"fontsize\": 20.0, \"coordinates\": \"axes\", \"h_anchor\": \"middle\", \"rotation\": -0.0, \"position\": [0.49999999999999994, 1.0275938189845473], \"alpha\": 1, \"text\": \"D3 Scatter Plot (with tooltips!)\", \"id\": \"el24847140062485272112\", \"v_baseline\": \"auto\", \"color\": \"#000000\"}], \"sharey\": [], \"xdomain\": [-0.04365825082594389, 0.850556250825944], \"axes\": [{\"tickvalues\": null, \"visible\": true, \"nticks\": 11, \"tickformat\": null, \"grid\": {\"alpha\": 1.0, \"gridOn\": true, \"color\": \"#FFFFFF\", \"dasharray\": \"none\"}, \"position\": \"bottom\", \"fontsize\": 10.0, \"scale\": \"linear\"}, {\"tickvalues\": null, \"visible\": true, \"nticks\": 7, \"tickformat\": null, \"grid\": {\"alpha\": 1.0, \"gridOn\": true, \"color\": \"#FFFFFF\", \"dasharray\": \"none\"}, \"position\": \"left\", \"fontsize\": 10.0, \"scale\": \"linear\"}], \"xscale\": \"linear\", \"ylim\": [-0.37034237127930913, 8.68467777637739], \"lines\": [], \"markers\": []}], \"id\": \"el24847140062716067736\", \"height\": 288.0, \"width\": 432.0, \"plugins\": [{\"type\": \"reset\"}, {\"type\": \"zoom\", \"button\": true, \"enabled\": false}, {\"type\": \"boxzoom\", \"button\": true, \"enabled\": false}, {\"labels\": [\"00a4fbe7657d1ded43ed1b738b\", \"2a410d94f28594481b32841ba1\", \"2caef7fd43e2d236b45978c07d\", \"29b9574b1a7f8066be2302e009\", \"1bc9a4ddb86078850cf31ad9c5\", \"34061420974323ca3e6cda7f3c\", \"2bca509b201fb23e67c9eb3016\", \"262cdbc8936b35b178fd07c040\", \"3ed4ee4420878ed9892e5c1a28\", \"202fc35611af0d47501e485c45\", \"0091dadaa13abb60ea098a7831\", \"01e204571b77f70973a24a5b28\", \"152c2b3df869846375d616fe5b\", \"248175160c4692c1ce0fbad3ae\", \"3f6e37c219817331704f1ccbbd\", \"23de8b3596f9065595e4736082\", \"1a0a6e3e18bae4e7a897b7a854\", \"2e58f8a9e1ab2c3a603e6d058c\", \"2295fee90edb8274d7728a8e12\", \"0b7f4f23cbc85b2d6171f7a310\", \"3a887a49b73b68ae53073e47d8\", \"39f6c2fe7504b0ee5d1f27e3d2\", \"208ca78999caf2fe50a8c9f6bc\", \"3b8f98ea3018582f5d9cdc74ca\", \"1f7da9e815733727a1b71cd365\", \"0c80e6d99fba1d6d6331b722ca\", \"04e554e1e4e8d5995b26f475d2\", \"38aef048d9fd85e6ab8b53ad6d\", \"3ac8d0e6eaa752159f4a612be3\", \"0fec76137634f3a444e6de378c\", \"2e276786eab76060309a527677\", \"1e0218014ececfb7c8d84ed44a\", \"05190be30b7808d71a7a96cbce\", \"07592b10a65c309f2e01907e05\", \"3d0362812ce702e8ff9a634e89\", \"326082bc3ebfbaf0a07f956cd7\", \"05caf44f9681d6da3fd893101a\", \"04ca302d5518e3ca88b1828a62\", \"08a37ce84c2937b7b8100da6dd\", \"153589dfa831a6a6dc39e2397e\", \"223e1ff1387fa3146a94f7ffc9\", \"240ac6d63dcc36db6bb4975d78\", \"23e9f8f2f6367d0e23bf239098\", \"1f175dee1b30af1b6c5bde55b9\", \"388ef3798e60eebbd754303445\", \"355512e329b3661ff410ddfda9\", \"1ceef9d7b6d7c84462ca61468c\", \"063e18ff890ed726f5419377c5\", \"3d0c6a7bb38bf6393ecd898d9e\", \"0b41574909f37a7a79f699ed35\", \"33076a6343c5b53530bd5da5eb\", \"16def296ce19ca6fdbe415b4ef\", \"1a68a1b063138216087f3a41df\", \"246f6d96ddb45c5ca0fc39dbab\", \"2ea0676e3a64516e0f46141e2e\", \"02fabe17327fc359ab36fcfcab\", \"07797cb6fd05272e83435b6845\", \"0f37cac0edfed7711eadf76523\", \"2d7d9b580fc1e5924100a217b5\", \"08e130d7d1610c86c2e84fd12a\", \"0ab8eed725e04dc1c3cc4f9b3b\", \"00e095c49e855d8bab6a495417\", \"30113eaad0ff53e8d7ace838a2\", \"253c13c3cca3d55f7196c0d326\", \"214f10a6532ec865dd69671d64\", \"09f1bdacf125f4545a391d02cd\"], \"location\": \"mouse\", \"hoffset\": 0, \"id\": \"el24847140062483144040\", \"voffset\": 10, \"type\": \"tooltip\"}, {\"type\": \"zoom\", \"button\": true, \"enabled\": true}, {\"id\": \"el24847140062483144040\", \"type\": \"clickinfo\", \"labels\": [\"00a4fbe7657d1ded43ed1b738b\", \"2a410d94f28594481b32841ba1\", \"2caef7fd43e2d236b45978c07d\", \"29b9574b1a7f8066be2302e009\", \"1bc9a4ddb86078850cf31ad9c5\", \"34061420974323ca3e6cda7f3c\", \"2bca509b201fb23e67c9eb3016\", \"262cdbc8936b35b178fd07c040\", \"3ed4ee4420878ed9892e5c1a28\", \"202fc35611af0d47501e485c45\", \"0091dadaa13abb60ea098a7831\", \"01e204571b77f70973a24a5b28\", \"152c2b3df869846375d616fe5b\", \"248175160c4692c1ce0fbad3ae\", \"3f6e37c219817331704f1ccbbd\", \"23de8b3596f9065595e4736082\", \"1a0a6e3e18bae4e7a897b7a854\", \"2e58f8a9e1ab2c3a603e6d058c\", \"2295fee90edb8274d7728a8e12\", \"0b7f4f23cbc85b2d6171f7a310\", \"3a887a49b73b68ae53073e47d8\", \"39f6c2fe7504b0ee5d1f27e3d2\", \"208ca78999caf2fe50a8c9f6bc\", \"3b8f98ea3018582f5d9cdc74ca\", \"1f7da9e815733727a1b71cd365\", \"0c80e6d99fba1d6d6331b722ca\", \"04e554e1e4e8d5995b26f475d2\", \"38aef048d9fd85e6ab8b53ad6d\", \"3ac8d0e6eaa752159f4a612be3\", \"0fec76137634f3a444e6de378c\", \"2e276786eab76060309a527677\", \"1e0218014ececfb7c8d84ed44a\", \"05190be30b7808d71a7a96cbce\", \"07592b10a65c309f2e01907e05\", \"3d0362812ce702e8ff9a634e89\", \"326082bc3ebfbaf0a07f956cd7\", \"05caf44f9681d6da3fd893101a\", \"04ca302d5518e3ca88b1828a62\", \"08a37ce84c2937b7b8100da6dd\", \"153589dfa831a6a6dc39e2397e\", \"223e1ff1387fa3146a94f7ffc9\", \"240ac6d63dcc36db6bb4975d78\", \"23e9f8f2f6367d0e23bf239098\", \"1f175dee1b30af1b6c5bde55b9\", \"388ef3798e60eebbd754303445\", \"355512e329b3661ff410ddfda9\", \"1ceef9d7b6d7c84462ca61468c\", \"063e18ff890ed726f5419377c5\", \"3d0c6a7bb38bf6393ecd898d9e\", \"0b41574909f37a7a79f699ed35\", \"33076a6343c5b53530bd5da5eb\", \"16def296ce19ca6fdbe415b4ef\", \"1a68a1b063138216087f3a41df\", \"246f6d96ddb45c5ca0fc39dbab\", \"2ea0676e3a64516e0f46141e2e\", \"02fabe17327fc359ab36fcfcab\", \"07797cb6fd05272e83435b6845\", \"0f37cac0edfed7711eadf76523\", \"2d7d9b580fc1e5924100a217b5\", \"08e130d7d1610c86c2e84fd12a\", \"0ab8eed725e04dc1c3cc4f9b3b\", \"00e095c49e855d8bab6a495417\", \"30113eaad0ff53e8d7ace838a2\", \"253c13c3cca3d55f7196c0d326\", \"214f10a6532ec865dd69671d64\", \"09f1bdacf125f4545a391d02cd\"]}]});\n",
       "      });\n",
       "    });\n",
       "}else{\n",
       "    // require.js not available: dynamically load d3 & mpld3\n",
       "    mpld3_load_lib(\"https://mpld3.github.io/js/d3.v3.min.js\", function(){\n",
       "         mpld3_load_lib(\"https://mpld3.github.io/js/mpld3.v0.3.js\", function(){\n",
       "                 \n",
       "    mpld3.register_plugin(\"clickinfo\", ClickInfo);\n",
       "    ClickInfo.prototype = Object.create(mpld3.Plugin.prototype);\n",
       "    ClickInfo.prototype.constructor = ClickInfo;\n",
       "    ClickInfo.prototype.requiredProps = [\"id\",\"labels\"];\n",
       "    function ClickInfo(fig, props){\n",
       "        mpld3.Plugin.call(this, fig, props);\n",
       "    };\n",
       "    \n",
       "    ClickInfo.prototype.draw = function(){\n",
       "        var obj = mpld3.get_element(this.props.id);\n",
       "        var labels = (this.props.labels);\n",
       "        obj.elements().on(\"mousedown\",\n",
       "                          function(d, i){\n",
       "                          txt=labels[i];\n",
       "                          window.prompt(\"Copy to clipboard: Ctrl+C, Enter\", txt);\n",
       "                          \n",
       "                          \n",
       "                          });\n",
       "    }\n",
       "    \n",
       "                 mpld3.draw_figure(\"fig_el248471400627160677363259761037\", {\"data\": {\"data01\": [[0.774545, 5.251036574453249], [0.710062, 5.376060467536364], [0.781338, 4.220062580616017], [0.736645, 6.383528261339341], [0.773049, 7.00252128438679], [0.76708, 6.168931815887256], [0.792597, 3.9595445366515616], [0.093355, 0.048700636352412785], [0.774257, 5.013920113166021], [0.749264, 4.586180925819169], [0.754749, 5.78723679615163], [0.775131, 3.8280502870357114], [0.692006, 3.9441527523844706], [0.749853, 3.9141781015394206], [0.74853, 5.475564398860543], [0.707954, 6.549465129872993], [0.756422, 5.056731012457062], [0.770052, 4.626196544611727], [0.776325, 4.745931481017914], [0.082514, 2.0974494221260684], [0.795328, 4.091046462799765], [0.007548, 2.025720302217618], [0.764509, 4.981940954432579], [0.749607, 3.6331938962653645], [0.759872, 4.793883753617222], [0.754407, 4.879313641055028], [0.754043, 4.060104677456165], [0.770794, 4.24422941346945], [0.794658, 5.834091411158287], [0.793857, 4.332692945321395], [0.772302, 4.660579528316103], [0.786071, 6.353480239824464], [0.779468, 6.002705868531527], [0.720892, 4.357014126234788], [0.783765, 4.887864736403833], [0.76737, 5.6392731264264295], [0.754417, 4.591081099288394], [0.715585, 6.8021039577111235], [0.767761, 5.467731272717849], [0.768225, 5.245031546293341], [0.768147, 5.248855856576433], [0.739734, 4.2146079267255425], [0.755744, 6.89845066803699], [0.769271, 5.080804477013114], [0.777726, 4.7662413950441564], [0.763516, 5.7340053476161055], [0.731953, 4.34895522971036], [0.755059, 6.02530797759466], [0.754233, 5.283577085427644], [0.767731, 4.263348892637087], [0.772189, 4.29440118281523], [0.767663, 4.971893952959181], [0.767049, 3.877539650054753], [0.766525, 4.842529690113709], [0.788192, 6.672159662748548], [0.73193, 5.948888661252459], [0.770667, 4.804395917082787], [0.708613, 4.13235621141871], [0.769302, 4.577077289980801], [0.754592, 7.192184376242539], [0.79935, 5.304981769996632], [0.78819, 4.155476647414076], [0.789378, 5.136235935451525], [0.791798, 5.1785058868643965], [0.780901, 5.106279115205827], [0.792343, 8.256826137714897]]}, \"axes\": [{\"axesbgalpha\": null, \"ydomain\": [-0.37034237127930913, 8.68467777637739], \"bbox\": [0.125, 0.125, 0.775, 0.755], \"images\": [], \"yscale\": \"linear\", \"zoomable\": true, \"xlim\": [-0.04365825082594389, 0.850556250825944], \"collections\": [{\"zorder\": 1, \"paths\": [[[[0.0, -0.5], [0.13260155, -0.5], [0.25978993539242673, -0.44731684579412084], [0.3535533905932738, -0.3535533905932738], [0.44731684579412084, -0.25978993539242673], [0.5, -0.13260155], [0.5, 0.0], [0.5, 0.13260155], [0.44731684579412084, 0.25978993539242673], [0.3535533905932738, 0.3535533905932738], [0.25978993539242673, 0.44731684579412084], [0.13260155, 0.5], [0.0, 0.5], [-0.13260155, 0.5], [-0.25978993539242673, 0.44731684579412084], [-0.3535533905932738, 0.3535533905932738], [-0.44731684579412084, 0.25978993539242673], [-0.5, 0.13260155], [-0.5, 0.0], [-0.5, -0.13260155], [-0.44731684579412084, -0.25978993539242673], [-0.3535533905932738, -0.3535533905932738], [-0.25978993539242673, -0.44731684579412084], [-0.13260155, -0.5], [0.0, -0.5]], [\"M\", \"C\", \"C\", \"C\", \"C\", \"C\", \"C\", \"C\", \"C\", \"Z\"]]], \"yindex\": 1, \"pathtransforms\": [[7.0710678118654755, 0.0, 0.0, 7.0710678118654755, 0.0, 0.0], [7.0710678118654755, 0.0, 0.0, 7.0710678118654755, 0.0, 0.0], [7.0710678118654755, 0.0, 0.0, 7.0710678118654755, 0.0, 0.0], [7.0710678118654755, 0.0, 0.0, 7.0710678118654755, 0.0, 0.0], [7.0710678118654755, 0.0, 0.0, 7.0710678118654755, 0.0, 0.0], [7.0710678118654755, 0.0, 0.0, 7.0710678118654755, 0.0, 0.0], [7.0710678118654755, 0.0, 0.0, 7.0710678118654755, 0.0, 0.0], [3.24037034920393, 0.0, 0.0, 3.24037034920393, 0.0, 0.0], [7.0710678118654755, 0.0, 0.0, 7.0710678118654755, 0.0, 0.0], [7.0710678118654755, 0.0, 0.0, 7.0710678118654755, 0.0, 0.0], [7.0710678118654755, 0.0, 0.0, 7.0710678118654755, 0.0, 0.0], [7.0710678118654755, 0.0, 0.0, 7.0710678118654755, 0.0, 0.0], [7.0710678118654755, 0.0, 0.0, 7.0710678118654755, 0.0, 0.0], [7.0710678118654755, 0.0, 0.0, 7.0710678118654755, 0.0, 0.0], [7.0710678118654755, 0.0, 0.0, 7.0710678118654755, 0.0, 0.0], [7.0710678118654755, 0.0, 0.0, 7.0710678118654755, 0.0, 0.0], [7.0710678118654755, 0.0, 0.0, 7.0710678118654755, 0.0, 0.0], [7.0710678118654755, 0.0, 0.0, 7.0710678118654755, 0.0, 0.0], [7.0710678118654755, 0.0, 0.0, 7.0710678118654755, 0.0, 0.0], [7.0710678118654755, 0.0, 0.0, 7.0710678118654755, 0.0, 0.0], [7.0710678118654755, 0.0, 0.0, 7.0710678118654755, 0.0, 0.0], [7.0710678118654755, 0.0, 0.0, 7.0710678118654755, 0.0, 0.0], [7.0710678118654755, 0.0, 0.0, 7.0710678118654755, 0.0, 0.0], [7.0710678118654755, 0.0, 0.0, 7.0710678118654755, 0.0, 0.0], [7.0710678118654755, 0.0, 0.0, 7.0710678118654755, 0.0, 0.0], [7.0710678118654755, 0.0, 0.0, 7.0710678118654755, 0.0, 0.0], [7.0710678118654755, 0.0, 0.0, 7.0710678118654755, 0.0, 0.0], [7.0710678118654755, 0.0, 0.0, 7.0710678118654755, 0.0, 0.0], [7.0710678118654755, 0.0, 0.0, 7.0710678118654755, 0.0, 0.0], [7.0710678118654755, 0.0, 0.0, 7.0710678118654755, 0.0, 0.0], [7.0710678118654755, 0.0, 0.0, 7.0710678118654755, 0.0, 0.0], [7.0710678118654755, 0.0, 0.0, 7.0710678118654755, 0.0, 0.0], [7.0710678118654755, 0.0, 0.0, 7.0710678118654755, 0.0, 0.0], [7.0710678118654755, 0.0, 0.0, 7.0710678118654755, 0.0, 0.0], [7.0710678118654755, 0.0, 0.0, 7.0710678118654755, 0.0, 0.0], [7.0710678118654755, 0.0, 0.0, 7.0710678118654755, 0.0, 0.0], [7.0710678118654755, 0.0, 0.0, 7.0710678118654755, 0.0, 0.0], [7.0710678118654755, 0.0, 0.0, 7.0710678118654755, 0.0, 0.0], [7.0710678118654755, 0.0, 0.0, 7.0710678118654755, 0.0, 0.0], [7.0710678118654755, 0.0, 0.0, 7.0710678118654755, 0.0, 0.0], [7.0710678118654755, 0.0, 0.0, 7.0710678118654755, 0.0, 0.0], [7.0710678118654755, 0.0, 0.0, 7.0710678118654755, 0.0, 0.0], [7.0710678118654755, 0.0, 0.0, 7.0710678118654755, 0.0, 0.0], [7.0710678118654755, 0.0, 0.0, 7.0710678118654755, 0.0, 0.0], [7.0710678118654755, 0.0, 0.0, 7.0710678118654755, 0.0, 0.0], [7.0710678118654755, 0.0, 0.0, 7.0710678118654755, 0.0, 0.0], [7.0710678118654755, 0.0, 0.0, 7.0710678118654755, 0.0, 0.0], [7.0710678118654755, 0.0, 0.0, 7.0710678118654755, 0.0, 0.0], [7.0710678118654755, 0.0, 0.0, 7.0710678118654755, 0.0, 0.0], [7.0710678118654755, 0.0, 0.0, 7.0710678118654755, 0.0, 0.0], [7.0710678118654755, 0.0, 0.0, 7.0710678118654755, 0.0, 0.0], [7.0710678118654755, 0.0, 0.0, 7.0710678118654755, 0.0, 0.0], [7.0710678118654755, 0.0, 0.0, 7.0710678118654755, 0.0, 0.0], [7.0710678118654755, 0.0, 0.0, 7.0710678118654755, 0.0, 0.0], [7.0710678118654755, 0.0, 0.0, 7.0710678118654755, 0.0, 0.0], [7.0710678118654755, 0.0, 0.0, 7.0710678118654755, 0.0, 0.0], [7.0710678118654755, 0.0, 0.0, 7.0710678118654755, 0.0, 0.0], [7.0710678118654755, 0.0, 0.0, 7.0710678118654755, 0.0, 0.0], [7.0710678118654755, 0.0, 0.0, 7.0710678118654755, 0.0, 0.0], [7.0710678118654755, 0.0, 0.0, 7.0710678118654755, 0.0, 0.0], [7.0710678118654755, 0.0, 0.0, 7.0710678118654755, 0.0, 0.0], [7.0710678118654755, 0.0, 0.0, 7.0710678118654755, 0.0, 0.0], [7.0710678118654755, 0.0, 0.0, 7.0710678118654755, 0.0, 0.0], [7.0710678118654755, 0.0, 0.0, 7.0710678118654755, 0.0, 0.0], [7.0710678118654755, 0.0, 0.0, 7.0710678118654755, 0.0, 0.0], [7.0710678118654755, 0.0, 0.0, 7.0710678118654755, 0.0, 0.0]], \"facecolors\": [\"#A30000\", \"#FE1200\", \"#960000\", \"#DA0000\", \"#A30000\", \"#AC0000\", \"#880000\", \"#0000FA\", \"#A30000\", \"#C80000\", \"#BF0000\", \"#9F0000\", \"#FF2800\", \"#C80000\", \"#C80000\", \"#FF1600\", \"#BA0000\", \"#A80000\", \"#9F0000\", \"#0000EC\", \"#840000\", \"#00007F\", \"#B10000\", \"#C80000\", \"#B60000\", \"#BF0000\", \"#BF0000\", \"#A80000\", \"#840000\", \"#840000\", \"#A30000\", \"#910000\", \"#9A0000\", \"#F10700\", \"#960000\", \"#AC0000\", \"#BF0000\", \"#FA0F00\", \"#AC0000\", \"#AC0000\", \"#AC0000\", \"#D50000\", \"#BF0000\", \"#A80000\", \"#9A0000\", \"#B10000\", \"#DE0000\", \"#BF0000\", \"#BF0000\", \"#AC0000\", \"#A30000\", \"#AC0000\", \"#AC0000\", \"#AC0000\", \"#8D0000\", \"#DE0000\", \"#A80000\", \"#FF1600\", \"#A80000\", \"#BF0000\", \"#7F0000\", \"#8D0000\", \"#8D0000\", \"#880000\", \"#960000\", \"#880000\"], \"xindex\": 0, \"edgewidths\": [1.0], \"offsets\": \"data01\", \"pathcoordinates\": \"display\", \"id\": \"el24847140062483144040\", \"offsetcoordinates\": \"data\", \"alphas\": [1.0], \"edgecolors\": [\"#A30000\", \"#FE1200\", \"#960000\", \"#DA0000\", \"#A30000\", \"#AC0000\", \"#880000\", \"#0000FA\", \"#A30000\", \"#C80000\", \"#BF0000\", \"#9F0000\", \"#FF2800\", \"#C80000\", \"#C80000\", \"#FF1600\", \"#BA0000\", \"#A80000\", \"#9F0000\", \"#0000EC\", \"#840000\", \"#00007F\", \"#B10000\", \"#C80000\", \"#B60000\", \"#BF0000\", \"#BF0000\", \"#A80000\", \"#840000\", \"#840000\", \"#A30000\", \"#910000\", \"#9A0000\", \"#F10700\", \"#960000\", \"#AC0000\", \"#BF0000\", \"#FA0F00\", \"#AC0000\", \"#AC0000\", \"#AC0000\", \"#D50000\", \"#BF0000\", \"#A80000\", \"#9A0000\", \"#B10000\", \"#DE0000\", \"#BF0000\", \"#BF0000\", \"#AC0000\", \"#A30000\", \"#AC0000\", \"#AC0000\", \"#AC0000\", \"#8D0000\", \"#DE0000\", \"#A80000\", \"#FF1600\", \"#A80000\", \"#BF0000\", \"#7F0000\", \"#8D0000\", \"#8D0000\", \"#880000\", \"#960000\", \"#880000\"]}], \"id\": \"el24847140062488476024\", \"sharex\": [], \"paths\": [], \"axesbg\": \"#DDDDDD\", \"texts\": [{\"zorder\": 3, \"fontsize\": 20.0, \"coordinates\": \"axes\", \"h_anchor\": \"middle\", \"rotation\": -0.0, \"position\": [0.49999999999999994, 1.0275938189845473], \"alpha\": 1, \"text\": \"D3 Scatter Plot (with tooltips!)\", \"id\": \"el24847140062485272112\", \"v_baseline\": \"auto\", \"color\": \"#000000\"}], \"sharey\": [], \"xdomain\": [-0.04365825082594389, 0.850556250825944], \"axes\": [{\"tickvalues\": null, \"visible\": true, \"nticks\": 11, \"tickformat\": null, \"grid\": {\"alpha\": 1.0, \"gridOn\": true, \"color\": \"#FFFFFF\", \"dasharray\": \"none\"}, \"position\": \"bottom\", \"fontsize\": 10.0, \"scale\": \"linear\"}, {\"tickvalues\": null, \"visible\": true, \"nticks\": 7, \"tickformat\": null, \"grid\": {\"alpha\": 1.0, \"gridOn\": true, \"color\": \"#FFFFFF\", \"dasharray\": \"none\"}, \"position\": \"left\", \"fontsize\": 10.0, \"scale\": \"linear\"}], \"xscale\": \"linear\", \"ylim\": [-0.37034237127930913, 8.68467777637739], \"lines\": [], \"markers\": []}], \"id\": \"el24847140062716067736\", \"height\": 288.0, \"width\": 432.0, \"plugins\": [{\"type\": \"reset\"}, {\"type\": \"zoom\", \"button\": true, \"enabled\": false}, {\"type\": \"boxzoom\", \"button\": true, \"enabled\": false}, {\"labels\": [\"00a4fbe7657d1ded43ed1b738b\", \"2a410d94f28594481b32841ba1\", \"2caef7fd43e2d236b45978c07d\", \"29b9574b1a7f8066be2302e009\", \"1bc9a4ddb86078850cf31ad9c5\", \"34061420974323ca3e6cda7f3c\", \"2bca509b201fb23e67c9eb3016\", \"262cdbc8936b35b178fd07c040\", \"3ed4ee4420878ed9892e5c1a28\", \"202fc35611af0d47501e485c45\", \"0091dadaa13abb60ea098a7831\", \"01e204571b77f70973a24a5b28\", \"152c2b3df869846375d616fe5b\", \"248175160c4692c1ce0fbad3ae\", \"3f6e37c219817331704f1ccbbd\", \"23de8b3596f9065595e4736082\", \"1a0a6e3e18bae4e7a897b7a854\", \"2e58f8a9e1ab2c3a603e6d058c\", \"2295fee90edb8274d7728a8e12\", \"0b7f4f23cbc85b2d6171f7a310\", \"3a887a49b73b68ae53073e47d8\", \"39f6c2fe7504b0ee5d1f27e3d2\", \"208ca78999caf2fe50a8c9f6bc\", \"3b8f98ea3018582f5d9cdc74ca\", \"1f7da9e815733727a1b71cd365\", \"0c80e6d99fba1d6d6331b722ca\", \"04e554e1e4e8d5995b26f475d2\", \"38aef048d9fd85e6ab8b53ad6d\", \"3ac8d0e6eaa752159f4a612be3\", \"0fec76137634f3a444e6de378c\", \"2e276786eab76060309a527677\", \"1e0218014ececfb7c8d84ed44a\", \"05190be30b7808d71a7a96cbce\", \"07592b10a65c309f2e01907e05\", \"3d0362812ce702e8ff9a634e89\", \"326082bc3ebfbaf0a07f956cd7\", \"05caf44f9681d6da3fd893101a\", \"04ca302d5518e3ca88b1828a62\", \"08a37ce84c2937b7b8100da6dd\", \"153589dfa831a6a6dc39e2397e\", \"223e1ff1387fa3146a94f7ffc9\", \"240ac6d63dcc36db6bb4975d78\", \"23e9f8f2f6367d0e23bf239098\", \"1f175dee1b30af1b6c5bde55b9\", \"388ef3798e60eebbd754303445\", \"355512e329b3661ff410ddfda9\", \"1ceef9d7b6d7c84462ca61468c\", \"063e18ff890ed726f5419377c5\", \"3d0c6a7bb38bf6393ecd898d9e\", \"0b41574909f37a7a79f699ed35\", \"33076a6343c5b53530bd5da5eb\", \"16def296ce19ca6fdbe415b4ef\", \"1a68a1b063138216087f3a41df\", \"246f6d96ddb45c5ca0fc39dbab\", \"2ea0676e3a64516e0f46141e2e\", \"02fabe17327fc359ab36fcfcab\", \"07797cb6fd05272e83435b6845\", \"0f37cac0edfed7711eadf76523\", \"2d7d9b580fc1e5924100a217b5\", \"08e130d7d1610c86c2e84fd12a\", \"0ab8eed725e04dc1c3cc4f9b3b\", \"00e095c49e855d8bab6a495417\", \"30113eaad0ff53e8d7ace838a2\", \"253c13c3cca3d55f7196c0d326\", \"214f10a6532ec865dd69671d64\", \"09f1bdacf125f4545a391d02cd\"], \"location\": \"mouse\", \"hoffset\": 0, \"id\": \"el24847140062483144040\", \"voffset\": 10, \"type\": \"tooltip\"}, {\"type\": \"zoom\", \"button\": true, \"enabled\": true}, {\"id\": \"el24847140062483144040\", \"type\": \"clickinfo\", \"labels\": [\"00a4fbe7657d1ded43ed1b738b\", \"2a410d94f28594481b32841ba1\", \"2caef7fd43e2d236b45978c07d\", \"29b9574b1a7f8066be2302e009\", \"1bc9a4ddb86078850cf31ad9c5\", \"34061420974323ca3e6cda7f3c\", \"2bca509b201fb23e67c9eb3016\", \"262cdbc8936b35b178fd07c040\", \"3ed4ee4420878ed9892e5c1a28\", \"202fc35611af0d47501e485c45\", \"0091dadaa13abb60ea098a7831\", \"01e204571b77f70973a24a5b28\", \"152c2b3df869846375d616fe5b\", \"248175160c4692c1ce0fbad3ae\", \"3f6e37c219817331704f1ccbbd\", \"23de8b3596f9065595e4736082\", \"1a0a6e3e18bae4e7a897b7a854\", \"2e58f8a9e1ab2c3a603e6d058c\", \"2295fee90edb8274d7728a8e12\", \"0b7f4f23cbc85b2d6171f7a310\", \"3a887a49b73b68ae53073e47d8\", \"39f6c2fe7504b0ee5d1f27e3d2\", \"208ca78999caf2fe50a8c9f6bc\", \"3b8f98ea3018582f5d9cdc74ca\", \"1f7da9e815733727a1b71cd365\", \"0c80e6d99fba1d6d6331b722ca\", \"04e554e1e4e8d5995b26f475d2\", \"38aef048d9fd85e6ab8b53ad6d\", \"3ac8d0e6eaa752159f4a612be3\", \"0fec76137634f3a444e6de378c\", \"2e276786eab76060309a527677\", \"1e0218014ececfb7c8d84ed44a\", \"05190be30b7808d71a7a96cbce\", \"07592b10a65c309f2e01907e05\", \"3d0362812ce702e8ff9a634e89\", \"326082bc3ebfbaf0a07f956cd7\", \"05caf44f9681d6da3fd893101a\", \"04ca302d5518e3ca88b1828a62\", \"08a37ce84c2937b7b8100da6dd\", \"153589dfa831a6a6dc39e2397e\", \"223e1ff1387fa3146a94f7ffc9\", \"240ac6d63dcc36db6bb4975d78\", \"23e9f8f2f6367d0e23bf239098\", \"1f175dee1b30af1b6c5bde55b9\", \"388ef3798e60eebbd754303445\", \"355512e329b3661ff410ddfda9\", \"1ceef9d7b6d7c84462ca61468c\", \"063e18ff890ed726f5419377c5\", \"3d0c6a7bb38bf6393ecd898d9e\", \"0b41574909f37a7a79f699ed35\", \"33076a6343c5b53530bd5da5eb\", \"16def296ce19ca6fdbe415b4ef\", \"1a68a1b063138216087f3a41df\", \"246f6d96ddb45c5ca0fc39dbab\", \"2ea0676e3a64516e0f46141e2e\", \"02fabe17327fc359ab36fcfcab\", \"07797cb6fd05272e83435b6845\", \"0f37cac0edfed7711eadf76523\", \"2d7d9b580fc1e5924100a217b5\", \"08e130d7d1610c86c2e84fd12a\", \"0ab8eed725e04dc1c3cc4f9b3b\", \"00e095c49e855d8bab6a495417\", \"30113eaad0ff53e8d7ace838a2\", \"253c13c3cca3d55f7196c0d326\", \"214f10a6532ec865dd69671d64\", \"09f1bdacf125f4545a391d02cd\"]}]});\n",
       "            })\n",
       "         });\n",
       "}\n",
       "</script>"
      ],
      "text/plain": [
       "<matplotlib.figure.Figure at 0x7f62e46fff98>"
      ]
     },
     "metadata": {},
     "output_type": "display_data"
    }
   ],
   "source": [
    "# fig=plt.figure(figsize=[10,5])\n",
    "# ax=plt.subplot(axisbg='#DDDDDD',)\n",
    "dat=csv2dat(tfmat_path+'/log8.csv')\n",
    "# dat=csv2dat(tfmat_path+'/tst6.csv')\n",
    "\n",
    "# dat=np.vstack((dat,csv2dat(tfmat_path+'/tst1.csv')))\n",
    "n0=0;\n",
    "data=dat[n0:n0+100,:]\n",
    "\n",
    "fig, ax = plt.subplots(subplot_kw=dict(axisbg='#DDDDDD',))\n",
    "# fig.set_size_inches([10,8])\n",
    "ax.grid(color='white', linestyle='solid')\n",
    "# plt.subplots_adjust(left=0.1, right=0.9, top=0.9, bottom=0.5)\n",
    "\n",
    "\n",
    "xs=data[:,0];\n",
    "ys=(data[:,1].astype(np.float));\n",
    "ys=np.log(ys);\n",
    "sizs=list(float(x)/2 for x in data[:,2])\n",
    "N = xs.size;\n",
    "labels=list(data[:,3]);\n",
    "scatter = ax.scatter(xs,\n",
    "                     ys,\n",
    "                     c=list( 1.*float(i)/N for i in xs),\n",
    "                     s = sizs,\n",
    "                     alpha=1.0,\n",
    "#                      label=labels,\n",
    "                     cmap=plt.cm.jet)\n",
    "\n",
    "ax.set_title(\"D3 Scatter Plot (with tooltips!)\", size=20)\n",
    "# labels = ['point {0}'.format(i + 1) for i in range(N)]\n",
    "tooltip = plugins.PointLabelTooltip(scatter, labels)\n",
    "plugins.connect(fig, \n",
    "                tooltip,\n",
    "                plugins.Zoom(enabled=True),\n",
    "                ClickInfo(scatter,labels)\n",
    "               )\n",
    "# plugins.connect(fig,\n",
    "#                )\n"
   ]
  },
  {
   "cell_type": "code",
   "execution_count": 232,
   "metadata": {
    "collapsed": false
   },
   "outputs": [
    {
     "data": {
      "text/plain": [
       "(11, 5)"
      ]
     },
     "execution_count": 232,
     "metadata": {},
     "output_type": "execute_result"
    }
   ],
   "source": [
    "# dat[146,:];\n",
    "dat.shape\n",
    "# len(labels)"
   ]
  }
 ],
 "metadata": {
  "kernelspec": {
   "display_name": "Python 3",
   "language": "python",
   "name": "python3"
  },
  "language_info": {
   "codemirror_mode": {
    "name": "ipython",
    "version": 3
   },
   "file_extension": ".py",
   "mimetype": "text/x-python",
   "name": "python",
   "nbconvert_exporter": "python",
   "pygments_lexer": "ipython3",
   "version": "3.5.2"
  }
 },
 "nbformat": 4,
 "nbformat_minor": 2
}
