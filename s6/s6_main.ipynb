{
 "cells": [
  {
   "cell_type": "code",
   "execution_count": 3,
   "metadata": {
    "collapsed": false,
    "scrolled": true
   },
   "outputs": [
    {
     "data": {
      "text/html": [
       "<script>\n",
       "code_show=true; \n",
       "function code_toggle() {\n",
       " if (code_show){\n",
       " $('div.input').hide();\n",
       " } else {\n",
       " $('div.input').show();\n",
       " }\n",
       " code_show = !code_show\n",
       "} \n",
       "$( document ).ready(code_toggle);\n",
       "</script>\n",
       "<form action=\"javascript:code_toggle()\"><input type=\"submit\" value=\"Click here to toggle on/off the raw code.\"></form>"
      ],
      "text/plain": [
       "<IPython.core.display.HTML object>"
      ]
     },
     "execution_count": 3,
     "metadata": {},
     "output_type": "execute_result"
    }
   ],
   "source": [
    "from IPython.display import HTML\n",
    "tog='''<script>\n",
    "code_show=true; \n",
    "function code_toggle() {\n",
    " if (code_show){\n",
    " $('div.input').hide();\n",
    " } else {\n",
    " $('div.input').show();\n",
    " }\n",
    " code_show = !code_show\n",
    "} \n",
    "$( document ).ready(code_toggle);\n",
    "</script>\n",
    "<form action=\"javascript:code_toggle()\"><input type=\"submit\" value=\"Click here to toggle on/off the raw code.\"></form>''';\n",
    "HTML(tog)"
   ]
  },
  {
   "cell_type": "code",
   "execution_count": 5,
   "metadata": {
    "collapsed": false
   },
   "outputs": [],
   "source": [
    "from myreport import html_report\n",
    "import random\n",
    "import matplotlib.pyplot as plt\n",
    "%matplotlib inline\n",
    "import numpy as np\n",
    "import copy"
   ]
  },
  {
   "cell_type": "markdown",
   "metadata": {},
   "source": [
    "# s6_task1\n",
    "## Generating Random Numbers\n",
    "##### 1a. result of calling random.random() is: \n"
   ]
  },
  {
   "cell_type": "code",
   "execution_count": 22,
   "metadata": {
    "collapsed": false
   },
   "outputs": [
    {
     "data": {
      "text/plain": [
       "0.6930935129832541"
      ]
     },
     "execution_count": 22,
     "metadata": {},
     "output_type": "execute_result"
    }
   ],
   "source": [
    "random.random()"
   ]
  },
  {
   "cell_type": "markdown",
   "metadata": {},
   "source": [
    "### 1b. 1,000,000 random numbers\n",
    "#### i)Histogram View"
   ]
  },
  {
   "cell_type": "code",
   "execution_count": 70,
   "metadata": {
    "collapsed": true
   },
   "outputs": [
    {
     "data": {
      "image/png": "[encoded data removed]",
      "text/plain": [
       "<matplotlib.figure.Figure at 0x7f10ac1d4f50>"
      ]
     },
     "metadata": {},
     "output_type": "display_data"
    }
   ],
   "source": [
    "\n",
    "x=np.random.random([1000000])\n",
    "\n",
    "plt.close('all');\n",
    "fig=plt.figure(figsize=[10, 4]);\n",
    "ax=plt.subplot(1,1,1)\n",
    "n, bins, patches = ax.hist(x, 30, normed=1, facecolor='green', alpha=0.75,histtype='bar', rwidth=0.9)\n"
   ]
  },
  {
   "cell_type": "markdown",
   "metadata": {},
   "source": [
    "##### ii) In words:\n",
    "The distribution is uniform over the interval [0,1];\n",
    "##### iii) What the function does? \n",
    "The function here used is (numpy.random.random()), it applies a pesudorandom generator to yield random numbers. \n",
    "### 1c. Consideration of the given distribution:\n",
    "##### 1)  50% of the numbers > 0.5\n",
    "##### 2) 50% of the numbers < 0.5\n",
    "##### 3) 70% of the numbers < 0.7\n",
    "### 1d. How could we simulate:\n",
    "##### i) a fair coin toss?\n",
    "We can set: head = (rand_number < 0.5), tail=(rand_number>0.5).\n",
    "##### ii) an unfair coin toss with heads in 70% of tosses?\n",
    "We can set: head = (rand_number < 0.7), tail=(rand_number>0.7).\n",
    "### 1e. Functions toss_fair_coin() and toss_coin(phead)"
   ]
  },
  {
   "cell_type": "code",
   "execution_count": 90,
   "metadata": {
    "collapsed": false,
    "scrolled": true
   },
   "outputs": [
    {
     "name": "stdout",
     "output_type": "stream",
     "text": [
      "5019\n",
      "6963\n"
     ]
    }
   ],
   "source": [
    "def toss_fair_coin():\n",
    "    r=random.random()\n",
    "    return ['T','H'][r<0.5];\n",
    "\n",
    "toss_coin=lambda x: ['T','H'][random.random()<x];"
   ]
  },
  {
   "cell_type": "markdown",
   "metadata": {},
   "source": [
    "##### ii) Test these toss_coins fuctions"
   ]
  },
  {
   "cell_type": "code",
   "execution_count": 91,
   "metadata": {
    "collapsed": false
   },
   "outputs": [
    {
     "name": "stdout",
     "output_type": "stream",
     "text": [
      "toss_fair_coin() give 4951 heads in 10000 events\n",
      "toss_coin(0.7) give 6975 heads in 10000 events\n"
     ]
    }
   ],
   "source": [
    "print('toss_fair_coin() give {} heads in 10000 events'.format([toss_fair_coin() for i  in range(10000)].count('H')))\n",
    "print('toss_coin(0.7) give {} heads in 10000 events'.format([toss_coin(0.7) for i  in range(10000)].count('H')))"
   ]
  },
  {
   "cell_type": "markdown",
   "metadata": {},
   "source": [
    "# s6_task2\n",
    "## Generateing a random Choice\n",
    "You have a bag with 9 green balls and 3 red balls. In a single trial we draw a ball out, record its colour, then put it back.\n",
    "### a) What's the chance of the colour to be green?\n",
    "P(green) = 9/(9+3) = 0.75\n",
    "### b) record result of 20 draws\n",
    "|Draw   |  1 |  2 | 3  | 4  | 5  | 6  | 7  | 8  | 9  | 10  | 11  | 12  | 13  | 14  | 15  |16   |17   |18   |19   |20   |\n",
    "    |---|---|---|---|---|---|---|---|---|---|---|---|---|---|---|---|---|---|---|---|---|\n",
    "|Colour | G  | R  |  R |  G |  G | G  |  G | G  |  G |  G | G  |  G | R  | R  |  G |  R | G  |  R | G  | G  |\n",
    "###c) \n"
   ]
  },
  {
   "cell_type": "code",
   "execution_count": 95,
   "metadata": {
    "collapsed": false
   },
   "outputs": [],
   "source": [
    "seq=list({'H':'G','T':'R'}[toss_coin(0.75)] for i in range(20));\n",
    "\n",
    "# x = 0.75;\n",
    "draw_ball=lambda x:{'H':'G','T':'R'}[toss_coin(x)]\n",
    "draw_ball2=lambda G,R: ['R','G'][random.random() < G/(G+R)];\n",
    "\n",
    "                                     "
   ]
  },
  {
   "cell_type": "markdown",
   "metadata": {},
   "source": [
    "### Generating Random Trajectories\n",
    "* Green balls represent function mRNA strands \n",
    "* Red balls represent non-functional mRNA strands\n",
    "* Assume an enzyme molecule acts to degrade a mRNA strand upon collision, every 10 seconds. \n",
    "    * if it collides with a green ball, put a red ball back. E+G --> E+R \n",
    "    * if it collides with a red   ball, put a red ball back. E+R --> E+R  \n",
    "\n",
    "### a) Simulate this with paper balls: Skipped\n",
    "### b) Simulate this with Python"
   ]
  },
  {
   "cell_type": "code",
   "execution_count": 1,
   "metadata": {
    "collapsed": false
   },
   "outputs": [
    {
     "data": {
      "text/plain": [
       "<function iter>"
      ]
     },
     "execution_count": 1,
     "metadata": {},
     "output_type": "execute_result"
    }
   ],
   "source": []
  },
  {
   "cell_type": "code",
   "execution_count": 109,
   "metadata": {
    "collapsed": false
   },
   "outputs": [
    {
     "data": {
      "image/png": "[encoded data removed]",
      "text/plain": [
       "<matplotlib.figure.Figure at 0x7f702adefc50>"
      ]
     },
     "metadata": {},
     "output_type": "display_data"
    }
   ],
   "source": [
    "\n",
    "def march(yiter,ytnow,dt,params):\n",
    "    ynow,tnow=ytnow;\n",
    "    yout=yiter(ynow,tnow,params);\n",
    "    tout=tnow+dt;\n",
    "    return (yout,tout);\n",
    "\n",
    "\n",
    "class state():\n",
    "    def __init__(self,yiter,yt,dt):\n",
    "        self.yiter=yiter\n",
    "        self.dt=dt;\n",
    "        self.yt=np.array(yt);\n",
    "#         self.t=0;\n",
    "        self.ys=[yt[0]];\n",
    "        self.ts=[yt[1]];\n",
    "#         self.ts=np.array();\n",
    "    def get_params(self):\n",
    "        pass\n",
    "    def forward(self,dur):\n",
    "        ts=np.arange(self.yt[1],self.yt[1]+dur,self.dt);\n",
    "        for t in ts:\n",
    "            self.yt=march(self.yiter,\n",
    "                          self.yt,\n",
    "                          self.dt,\n",
    "                          self.get_params());\n",
    "#             print(self.ys)\n",
    "            self.ys=np.vstack((np.array(self.ys) ,\n",
    "                                np.array(self.yt[0]) ))\n",
    "        self.ts =self.ts + list(ts);\n",
    "                    \n",
    "        \n",
    "    \n",
    "def yiter(ynow,t,params):\n",
    "    fmrna, nfmrna = ynow;\n",
    "    react= int(random.random() < fmrna/(fmrna+nfmrna));\n",
    "#     print fmrna/(fmrna+nfmrna);\n",
    "    fmrna +=-react;\n",
    "    nfmrna+=react;\n",
    "    \n",
    "    \n",
    "    return  (fmrna,nfmrna)\n",
    "\n",
    "# mrna=state(yiter,[(200.,10.),0.],1.);\n",
    "# mrna.forward(1000);\n",
    "\n",
    "mrna=state(yiter,[(100.,20.),0.],10.);\n",
    "mrna.forward(300);\n",
    "\n",
    "plt.close('all');\n",
    "fig=plt.figure(figsize=[10, 4]);\n",
    "ax=plt.subplot(1,1,1)\n",
    "\n",
    "# ax.plot(mrna.ts,mrna.ys[:,0]);\n",
    "# ax.plot(mrna.ts,mrna.ys[:,1]);\n",
    "\n",
    "runs=[];\n",
    "s0=state(yiter,[(100.,20.),0.],10.);\n",
    "for i in range(6):\n",
    "    s=copy.copy(s0);\n",
    "    s.forward(700)\n",
    "    runs.append(s.ys[:,0]);\n",
    "#     ax.plot(s.ts,s.ys[:,0]);\n",
    "#     ax.plot(s.ts,s.ys[:,1]);\n",
    "ax.plot(s.ts,np.array(runs).T);\n",
    "\n",
    "\n"
   ]
  },
  {
   "cell_type": "code",
   "execution_count": 169,
   "metadata": {
    "collapsed": false
   },
   "outputs": [
    {
     "name": "stderr",
     "output_type": "stream",
     "text": [
      "/home/shouldsee/.local/lib/python2.7/site-packages/ipykernel/__main__.py:3: DeprecationWarning: This function is deprecated. Please call randint(0, 5 + 1) instead\n",
      "  app.launch_new_instance()\n"
     ]
    },
    {
     "data": {
      "text/plain": [
       "array([[244, 205, 250, ..., 233, 249, 278],\n",
       "       [230, 252, 245, ..., 252, 252, 240],\n",
       "       [249, 260, 229, ..., 236, 255, 227],\n",
       "       ..., \n",
       "       [230, 257, 238, ..., 248, 190, 270],\n",
       "       [261, 268, 236, ..., 265, 246, 230],\n",
       "       [240, 236, 279, ..., 258, 238, 240]])"
      ]
     },
     "execution_count": 169,
     "metadata": {},
     "output_type": "execute_result"
    }
   ],
   "source": [
    "#dicing\n",
    "random.randrange(1,7)\n",
    "x=np.random.random_integers(0,5,[100,100,100]);\n",
    "x.shape\n",
    "x.sum(axis=2)\n",
    "\n",
    "# sum(x,4)\n",
    "# sum(x,axis=0)\n",
    "# help(np.random.random_integers)"
   ]
  },
  {
   "cell_type": "code",
   "execution_count": 32,
   "metadata": {
    "collapsed": false
   },
   "outputs": [
    {
     "data": {
      "text/plain": [
       "1"
      ]
     },
     "execution_count": 32,
     "metadata": {},
     "output_type": "execute_result"
    }
   ],
   "source": [
    "list(np.arange(0,10,.2))\n",
    "n=np.array([[0,1],1])\n",
    "n[1]"
   ]
  }
 ],
 "metadata": {
  "kernelspec": {
   "display_name": "Python 2",
   "language": "python",
   "name": "python2"
  },
  "language_info": {
   "codemirror_mode": {
    "name": "ipython",
    "version": 2
   },
   "file_extension": ".py",
   "mimetype": "text/x-python",
   "name": "python",
   "nbconvert_exporter": "python",
   "pygments_lexer": "ipython2",
   "version": "2.7.12"
  }
 },
 "nbformat": 4,
 "nbformat_minor": 2
}
