{
 "cells": [
  {
   "cell_type": "code",
   "execution_count": null,
   "metadata": {
    "collapsed": true
   },
   "outputs": [],
   "source": [
    "\n",
    "\n",
    "fig1 = plt.figure(figsize=(10,5))\n",
    "axLa=fig1.add_subplot(2,2,1)\n",
    "axRa=fig1.add_subplot(2,2,2)\n",
    "axLa.set_title(tl);\n",
    "\n",
    "\n",
    "ys = np.sin(np.linspace(0,10,300))\n",
    "\n",
    "X = np.array(ys)\n",
    "N=len(X)\n",
    "W[0]=0;\n",
    "freq = np.fft.fftfreq(N,1)\n",
    "\n",
    "# fig1 = plt.figure(figsize=(10,5))\n",
    "axL=fig1.add_subplot(2,2,3)\n",
    "axR=fig1.add_subplot(2,2,4)\n",
    "axL.set_title(tl);\n",
    "axL.plot(freq[:N/2], abs(W[:N/2]))\n",
    "axL.set_xlabel(r\"$f$\")\n",
    "\n",
    "# plt.subplot(212)\n",
    "axR.plot(1.0/freq[:N/2], abs(W[:N/2]))\n",
    "\n",
    "\n",
    "def fft_period(ys,threshold=20, debug=1):\n",
    "    X = np.array(ys)\n",
    "    N=len(X)\n",
    "    W    = np.fft.fft(X)/X.size\n",
    "    W[0]=0;\n",
    "    freq = np.fft.fftfreq(N,1)\n",
    "\n",
    "#     threshold = 20\n",
    "    absW=abs(W)\n",
    "    try:\n",
    "        dur = np.where(absW>threshold)[0];\n",
    "        Wdur=absW[dur];\n",
    "        idx = dur[np.where(Wdur == max(Wdur))[0]];\n",
    "    #     idx = np.where(abs(W)>threshold)[0][-1]\n",
    "        axRa.plot(Wdur)\n",
    "        max_f = abs(freq[idx])\n",
    "    except:\n",
    "        max_f = np.array(0);\n",
    "\n",
    "    period = (1/max_f).flat[0];\n",
    "    if debug:\n",
    "        print \"Period estimate: \", period\n",
    "    return period\n",
    "\n",
    "fft_period(ys)\n"
   ]
  }
 ],
 "metadata": {
  "kernelspec": {
   "display_name": "Python 2",
   "language": "python",
   "name": "python2"
  },
  "language_info": {
   "codemirror_mode": {
    "name": "ipython",
    "version": 2
   },
   "file_extension": ".py",
   "mimetype": "text/x-python",
   "name": "python",
   "nbconvert_exporter": "python",
   "pygments_lexer": "ipython2",
   "version": "2.7.12"
  }
 },
 "nbformat": 4,
 "nbformat_minor": 2
}
